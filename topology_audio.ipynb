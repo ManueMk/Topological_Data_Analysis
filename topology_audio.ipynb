{
 "cells": [
  {
   "cell_type": "markdown",
   "id": "6632d953",
   "metadata": {},
   "source": [
    "---"
   ]
  },
  {
   "cell_type": "markdown",
   "id": "3a3d080e-6482-418a-9cf6-81c8550ab579",
   "metadata": {},
   "source": [
    "## EXTRACTION OF TOPOLOGICAL FEATURES ON AUDIOS FOR CLASSIFICATION"
   ]
  },
  {
   "cell_type": "markdown",
   "id": "cf7b6af0",
   "metadata": {},
   "source": [
    "---"
   ]
  },
  {
   "cell_type": "markdown",
   "id": "b820291c",
   "metadata": {},
   "source": [
    "1. In the Project-3 folder, you will find two other folders: **Normal** and **Wheezing**. The first folder consists of recorded sound waves of “normal” breathing. The second folder consists of recorded sound waves of breathing with a wheezing sound. This pattern of breathing is generallydetected in the breathing of asthmatic patients."
   ]
  },
  {
   "cell_type": "markdown",
   "id": "6691d93a",
   "metadata": {},
   "source": [
    "---"
   ]
  },
  {
   "cell_type": "markdown",
   "id": "b34762da",
   "metadata": {},
   "source": [
    "2. The Project-3 folder also contains the notebook **Signal Processing.ipynb.**Your main goal is to adapt this notebook to these new dataset."
   ]
  },
  {
   "cell_type": "markdown",
   "id": "f85b2d05",
   "metadata": {},
   "source": [
    "---"
   ]
  },
  {
   "cell_type": "markdown",
   "id": "9c0f510b",
   "metadata": {},
   "source": [
    "3. You should create a labeling for the two folders, with files from **Normal labeled 0** and files from **Wheezing labeled 1**. Create a training dataset (about 80% from each class) and testing data set (about 20% from each class.)"
   ]
  },
  {
   "cell_type": "markdown",
   "id": "df87a839",
   "metadata": {},
   "source": [
    "---"
   ]
  },
  {
   "cell_type": "markdown",
   "id": "3d673881",
   "metadata": {},
   "source": [
    "4. Follow the notebook closely and make your own choices of features se-lection. There are **Persistent Entropy, Carlsson Coordinates** and other methods in the Notebook. Make your own choice (try different choices of these features selection methods and choose the best)."
   ]
  },
  {
   "cell_type": "markdown",
   "id": "2660566b",
   "metadata": {},
   "source": [
    "---"
   ]
  },
  {
   "cell_type": "markdown",
   "id": "a65ba7de",
   "metadata": {},
   "source": [
    "### Importing Libraries"
   ]
  },
  {
   "cell_type": "markdown",
   "id": "0a7fca34",
   "metadata": {},
   "source": [
    "---"
   ]
  },
  {
   "cell_type": "code",
   "execution_count": 19,
   "id": "9599c320",
   "metadata": {
    "scrolled": true
   },
   "outputs": [],
   "source": [
    "# data wrangling\n",
    "import numpy as np\n",
    "import pandas as pd\n",
    "from pathlib import Path\n",
    "from IPython.display import YouTubeVideo\n",
    "from fastprogress import progress_bar\n",
    "\n",
    "# hepml\n",
    "from hepml.core import make_gravitational_waves, download_dataset\n",
    "\n",
    "# tda magic\n",
    "from gtda.homology import VietorisRipsPersistence, CubicalPersistence\n",
    "from gtda.diagrams import PersistenceEntropy, Scaler\n",
    "from gtda.plotting import plot_heatmap, plot_point_cloud, plot_diagram\n",
    "from gtda.pipeline import Pipeline\n",
    "from gtda.time_series import TakensEmbedding\n",
    "from gtda.time_series import SingleTakensEmbedding\n",
    "\n",
    "# ml tools\n",
    "from sklearn.ensemble import RandomForestClassifier\n",
    "from sklearn.decomposition import PCA\n",
    "from sklearn.model_selection import train_test_split\n",
    "from sklearn.metrics import roc_curve, roc_auc_score, accuracy_score\n",
    "\n",
    "# dataviz\n",
    "import matplotlib.pyplot as plt\n",
    "import seaborn as sns\n",
    "\n",
    "sns.set(color_codes=True)\n",
    "sns.set_palette(sns.color_palette(\"muted\"))"
   ]
  },
  {
   "cell_type": "code",
   "execution_count": 9,
   "id": "e4509146",
   "metadata": {},
   "outputs": [],
   "source": [
    "import tensorflow as tf\n",
    "import numpy as np\n",
    "import keras\n",
    "\n",
    "from tensorflow.keras.models import Model\n",
    "from tensorflow.keras.layers import Input, Dense, Concatenate\n",
    "\n",
    "from math import comb\n",
    "from collections import Counter\n",
    "import pickle\n",
    "import operator\n",
    "import itertools\n",
    "from functools import reduce\n",
    "from tensorflow.keras import Input\n",
    "from keras import ops"
   ]
  },
  {
   "cell_type": "code",
   "execution_count": 2,
   "id": "8f189232",
   "metadata": {},
   "outputs": [],
   "source": [
    "import matplotlib.pyplot as plt\n",
    "import numpy as np\n",
    "import wave\n",
    "import sys\n",
    "from ripser import ripser\n",
    "from persim import plot_diagrams\n",
    "from gtda.diagrams import PersistenceEntropy\n",
    "\n",
    "from sklearn.pipeline import Pipeline\n",
    "from gtda.diagrams import Amplitude\n",
    "from gtda.diagrams import NumberOfPoints\n",
    "from gtda.diagrams import PersistenceEntropy\n",
    "\n",
    "from sklearn.pipeline import make_pipeline, make_union\n",
    "#import teaspoon\n",
    "from teaspoon.ML import feature_functions as Ff"
   ]
  },
  {
   "cell_type": "markdown",
   "id": "bc53746d",
   "metadata": {},
   "source": [
    "---"
   ]
  },
  {
   "cell_type": "markdown",
   "id": "cf30f0b0",
   "metadata": {},
   "source": [
    "### Directory Structure Setup\n",
    "\n",
    "- The code defines a main folder that contains subfolders, each representing different classes (e.g., different health conditions).\n",
    "\n",
    "### Randomization and Data Preparation\n",
    "\n",
    "- It sets a random seed for reproducibility, which ensures that the shuffling of audio files remains consistent across runs.\n",
    "\n",
    "\n",
    "### Data Splitting\n",
    "\n",
    "- The audio files are split into training (80%) and testing (20%) sets based on a calculated index, ensuring that each set contains a representative portion of the data.\n",
    "\n",
    "### Data Structuring\n",
    "\n",
    "- The paths of the audio files, along with their corresponding labels (derived from folder names), are stored in lists."
   ]
  },
  {
   "cell_type": "markdown",
   "id": "dd2e1770",
   "metadata": {},
   "source": [
    "---"
   ]
  },
  {
   "cell_type": "code",
   "execution_count": 3,
   "id": "86d94c8f",
   "metadata": {},
   "outputs": [
    {
     "name": "stdout",
     "output_type": "stream",
     "text": [
      "Training and testing datasets have been created and saved as CSV files.\n"
     ]
    }
   ],
   "source": [
    "import os\n",
    "import random\n",
    "import pandas as pd\n",
    "\n",
    "# Define the path to your main folder containing the audio folders\n",
    "main_folder = '/home/manuella/Desktop/TPA/Project_3/all_data'\n",
    "\n",
    "# Set the seed for reproducibility\n",
    "random.seed(42)\n",
    "\n",
    "# Prepare lists to hold data for train and test sets\n",
    "train_data = []\n",
    "test_data = []\n",
    "\n",
    "# Iterate over each folder in the main folder\n",
    "for folder_name in os.listdir(main_folder):\n",
    "    folder_path = os.path.join(main_folder, folder_name)\n",
    "\n",
    "    if os.path.isdir(folder_path) and folder_name not in ['train', 'test']:\n",
    "        # List all audio files in the folder\n",
    "        audio_files = [f for f in os.listdir(folder_path) if f.endswith(('.wav', '.mp3'))]\n",
    "\n",
    "        # Shuffle the audio files\n",
    "        random.shuffle(audio_files)\n",
    "\n",
    "        # Determine the split index\n",
    "        split_index = int(len(audio_files) * 0.8)\n",
    "\n",
    "        # Split the audio files into train and test sets\n",
    "        train_files = audio_files[:split_index]\n",
    "        test_files = audio_files[split_index:]\n",
    "\n",
    "        # Append file paths and labels to the respective lists\n",
    "        for file in train_files:\n",
    "            train_data.append((os.path.join(folder_path, file), folder_name))  # (file path, label)\n",
    "\n",
    "        for file in test_files:\n",
    "            test_data.append((os.path.join(folder_path, file), folder_name))  # (file path, label)\n",
    "\n",
    "# Create DataFrames for train and test sets\n",
    "train_df = pd.DataFrame(train_data, columns=['file_path', 'label'])\n",
    "test_df = pd.DataFrame(test_data, columns=['file_path', 'label'])\n",
    "\n",
    "# Save the DataFrames as CSV files\n",
    "train_df.to_csv(os.path.join(main_folder, 'train_dataset.csv'), index=False)\n",
    "test_df.to_csv(os.path.join(main_folder, 'test_dataset.csv'), index=False)\n",
    "\n",
    "print(\"Training and testing datasets have been created and saved as CSV files.\")"
   ]
  },
  {
   "cell_type": "code",
   "execution_count": 4,
   "id": "feb52eff",
   "metadata": {
    "scrolled": true
   },
   "outputs": [
    {
     "data": {
      "text/html": [
       "<div>\n",
       "<style scoped>\n",
       "    .dataframe tbody tr th:only-of-type {\n",
       "        vertical-align: middle;\n",
       "    }\n",
       "\n",
       "    .dataframe tbody tr th {\n",
       "        vertical-align: top;\n",
       "    }\n",
       "\n",
       "    .dataframe thead th {\n",
       "        text-align: right;\n",
       "    }\n",
       "</style>\n",
       "<table border=\"1\" class=\"dataframe\">\n",
       "  <thead>\n",
       "    <tr style=\"text-align: right;\">\n",
       "      <th></th>\n",
       "      <th>file_path</th>\n",
       "      <th>label</th>\n",
       "    </tr>\n",
       "  </thead>\n",
       "  <tbody>\n",
       "    <tr>\n",
       "      <th>0</th>\n",
       "      <td>/home/manuella/Desktop/TPA/Project_3/all_data/...</td>\n",
       "      <td>Asthma</td>\n",
       "    </tr>\n",
       "    <tr>\n",
       "      <th>1</th>\n",
       "      <td>/home/manuella/Desktop/TPA/Project_3/all_data/...</td>\n",
       "      <td>Asthma</td>\n",
       "    </tr>\n",
       "    <tr>\n",
       "      <th>2</th>\n",
       "      <td>/home/manuella/Desktop/TPA/Project_3/all_data/...</td>\n",
       "      <td>Asthma</td>\n",
       "    </tr>\n",
       "    <tr>\n",
       "      <th>3</th>\n",
       "      <td>/home/manuella/Desktop/TPA/Project_3/all_data/...</td>\n",
       "      <td>Asthma</td>\n",
       "    </tr>\n",
       "    <tr>\n",
       "      <th>4</th>\n",
       "      <td>/home/manuella/Desktop/TPA/Project_3/all_data/...</td>\n",
       "      <td>Asthma</td>\n",
       "    </tr>\n",
       "  </tbody>\n",
       "</table>\n",
       "</div>"
      ],
      "text/plain": [
       "                                           file_path   label\n",
       "0  /home/manuella/Desktop/TPA/Project_3/all_data/...  Asthma\n",
       "1  /home/manuella/Desktop/TPA/Project_3/all_data/...  Asthma\n",
       "2  /home/manuella/Desktop/TPA/Project_3/all_data/...  Asthma\n",
       "3  /home/manuella/Desktop/TPA/Project_3/all_data/...  Asthma\n",
       "4  /home/manuella/Desktop/TPA/Project_3/all_data/...  Asthma"
      ]
     },
     "execution_count": 4,
     "metadata": {},
     "output_type": "execute_result"
    }
   ],
   "source": [
    "train_df.head()"
   ]
  },
  {
   "cell_type": "markdown",
   "id": "b0a5a4f1",
   "metadata": {},
   "source": [
    "**The paths indicate that they are sourced from the specified main folder, suggesting a structured directory of audio data.**"
   ]
  },
  {
   "cell_type": "markdown",
   "id": "5df01d15",
   "metadata": {},
   "source": [
    "---"
   ]
  },
  {
   "cell_type": "markdown",
   "id": "dd2dd4e1",
   "metadata": {},
   "source": [
    "---"
   ]
  },
  {
   "cell_type": "code",
   "execution_count": 5,
   "id": "76346dbd",
   "metadata": {},
   "outputs": [],
   "source": [
    "def fit_embedder(embedder, y, verbose=True):\n",
    "    y_embedded = embedder.fit_transform(y)\n",
    "\n",
    "    if verbose:\n",
    "        print(f\"Shape of embedded time series: {y_embedded.shape}\")\n",
    "        print(f\"Optimal embedding dimension is {embedder.dimension_} and time delay is {embedder.time_delay_}\")\n",
    "\n",
    "    return y_embedded\n",
    "\n",
    "def convert_dgm(dgm):\n",
    "    Arr = dgm.copy()\n",
    "    Arr[0] = Arr[0][:-1]\n",
    "    col_a  = np.zeros(Arr[0].shape[0])\n",
    "    Arr[0] = np.column_stack((Arr[0], col_a))\n",
    "    \n",
    "    col_b  = np.ones(Arr[1].shape[0], dtype=int)\n",
    "    Arr[1] = np.column_stack((Arr[1], col_b))\n",
    "    temp_1 = list(Arr[0])\n",
    "    temp_2 = list(Arr[1])\n",
    "    temp_1.extend(temp_2)\n",
    "    return np.asarray(temp_1)"
   ]
  },
  {
   "cell_type": "markdown",
   "id": "538c894e",
   "metadata": {},
   "source": [
    "---"
   ]
  },
  {
   "cell_type": "markdown",
   "id": "d22d8c78",
   "metadata": {},
   "source": [
    "## Function to extract features"
   ]
  },
  {
   "cell_type": "markdown",
   "id": "8a9a4d7f",
   "metadata": {},
   "source": [
    "---"
   ]
  },
  {
   "cell_type": "code",
   "execution_count": 6,
   "id": "05b6ba64",
   "metadata": {},
   "outputs": [],
   "source": [
    "import numpy as np\n",
    "import wave\n",
    "from sklearn.pipeline import make_union\n",
    "\n",
    "def extract_features(df):\n",
    "    features_list = []  # List to store features for each audio file\n",
    "\n",
    "    for i in range(len(df)):\n",
    "        file_path = df.iloc[i]['file_path']  \n",
    "        \n",
    "        try:\n",
    "            #Converts to a signal\n",
    "            spf = wave.open(file_path, \"r\")\n",
    "            signal = spf.readframes(-1)\n",
    "            signal = np.frombuffer(signal, np.int16)\n",
    "\n",
    "            embedding_dimension = 30\n",
    "            embedding_time_delay = 100\n",
    "            stride = 10\n",
    "            FN = 5\n",
    "\n",
    "            embedder = SingleTakensEmbedding(\n",
    "                parameters_type=\"search\", n_jobs=2, time_delay=embedding_time_delay, dimension=embedding_dimension, stride=stride\n",
    "            )\n",
    "\n",
    "            y_noise_embedded = fit_embedder(embedder, signal)\n",
    "            res = ripser(y_noise_embedded, n_perm=700)\n",
    "            dgms_sub = res['dgms']\n",
    "            res = convert_dgm(dgms_sub)\n",
    "\n",
    "            persistence_entropy = PersistenceEntropy()\n",
    "\n",
    "            # Calculate topological feature matrix\n",
    "            X_pe = persistence_entropy.fit_transform(res[None, :, :])\n",
    "\n",
    "            test = dgms_sub[0][:-1]\n",
    "            test_1 = dgms_sub[1]\n",
    "            \n",
    "            # Calculate Carlsson Coordinates\n",
    "\n",
    "            FeatureMatrix, TotalNumComb, CombList = Ff.F_CCoordinates(test[None, :, :], FN)\n",
    "            X_cc_0 = FeatureMatrix[-8]\n",
    "\n",
    "            FeatureMatrix, TotalNumComb, CombList = Ff.F_CCoordinates(test_1[None, :, :], FN)\n",
    "            X_cc_1 = FeatureMatrix[-9]\n",
    "\n",
    "            # Listing all metrics we want to use to extract diagram amplitudes\n",
    "            metrics = [\n",
    "                {\"metric\": \"bottleneck\", \"metric_params\": {}},\n",
    "                {\"metric\": \"wasserstein\", \"metric_params\": {\"p\": 2}},\n",
    "                {\"metric\": \"betti\", \"metric_params\": {\"p\": 2, \"n_bins\": 100}},\n",
    "                {\"metric\": \"heat\", \"metric_params\": {\"p\": 2, \"sigma\": 1.6, \"n_bins\": 100}},\n",
    "                {\"metric\": \"heat\", \"metric_params\": {\"p\": 2, \"sigma\": 3.2, \"n_bins\": 100}},\n",
    "            ]\n",
    "\n",
    "            feature_union = make_union(\n",
    "                PersistenceEntropy(normalize=True),\n",
    "                NumberOfPoints(n_jobs=-1),\n",
    "                *[Amplitude(**metric, n_jobs=-1) for metric in metrics]\n",
    "            )\n",
    "\n",
    "            single_data = feature_union.fit_transform(res[None, :, :])\n",
    "\n",
    "            # Combine features\n",
    "            single_X_train = np.concatenate((X_pe, X_cc_0, X_cc_1, single_data), axis=None)\n",
    "\n",
    "            # Append the features for this file to the list\n",
    "            features_list.append(single_X_train)\n",
    "\n",
    "        except Exception as e:\n",
    "            print(f\"Error processing file {file_path}: {e}\")\n",
    "            continue  # Skip to the next file in case of an error\n",
    "\n",
    "    return np.array(features_list)  # Return the features array"
   ]
  },
  {
   "cell_type": "markdown",
   "id": "4e62a910",
   "metadata": {},
   "source": [
    "## Extraction of features on the train set"
   ]
  },
  {
   "cell_type": "code",
   "execution_count": 7,
   "id": "e9323af3",
   "metadata": {
    "scrolled": true
   },
   "outputs": [
    {
     "name": "stdout",
     "output_type": "stream",
     "text": [
      "Shape of embedded time series: (6044, 19)\n",
      "Optimal embedding dimension is 19 and time delay is 52\n",
      "Shape of embedded time series: (9254, 23)\n",
      "Optimal embedding dimension is 23 and time delay is 73\n",
      "Shape of embedded time series: (9194, 29)\n",
      "Optimal embedding dimension is 29 and time delay is 79\n",
      "Shape of embedded time series: (9264, 29)\n",
      "Optimal embedding dimension is 29 and time delay is 54\n",
      "Shape of embedded time series: (8657, 21)\n",
      "Optimal embedding dimension is 21 and time delay is 59\n",
      "Shape of embedded time series: (6301, 17)\n",
      "Optimal embedding dimension is 17 and time delay is 58\n",
      "Shape of embedded time series: (5362, 13)\n",
      "Optimal embedding dimension is 13 and time delay is 49\n",
      "Shape of embedded time series: (5629, 27)\n",
      "Optimal embedding dimension is 27 and time delay is 48\n",
      "Shape of embedded time series: (11830, 18)\n",
      "Optimal embedding dimension is 18 and time delay is 100\n",
      "Shape of embedded time series: (4671, 8)\n",
      "Optimal embedding dimension is 8 and time delay is 48\n",
      "Shape of embedded time series: (11840, 17)\n",
      "Optimal embedding dimension is 17 and time delay is 100\n",
      "Shape of embedded time series: (7834, 14)\n",
      "Optimal embedding dimension is 14 and time delay is 74\n",
      "Shape of embedded time series: (7930, 29)\n",
      "Optimal embedding dimension is 29 and time delay is 64\n",
      "Shape of embedded time series: (5371, 9)\n",
      "Optimal embedding dimension is 9 and time delay is 63\n",
      "Shape of embedded time series: (5453, 21)\n",
      "Optimal embedding dimension is 21 and time delay is 61\n",
      "Shape of embedded time series: (5768, 30)\n",
      "Optimal embedding dimension is 30 and time delay is 57\n",
      "Shape of embedded time series: (6942, 20)\n",
      "Optimal embedding dimension is 20 and time delay is 45\n",
      "Shape of embedded time series: (6044, 19)\n",
      "Optimal embedding dimension is 19 and time delay is 52\n",
      "Shape of embedded time series: (7961, 29)\n",
      "Optimal embedding dimension is 29 and time delay is 53\n",
      "Shape of embedded time series: (2308, 15)\n",
      "Optimal embedding dimension is 15 and time delay is 48\n",
      "Shape of embedded time series: (6299, 18)\n",
      "Optimal embedding dimension is 18 and time delay is 56\n",
      "Shape of embedded time series: (3620, 9)\n",
      "Optimal embedding dimension is 9 and time delay is 44\n",
      "Shape of embedded time series: (4786, 13)\n",
      "Optimal embedding dimension is 13 and time delay is 60\n",
      "Shape of embedded time series: (9136, 11)\n",
      "Optimal embedding dimension is 11 and time delay is 100\n",
      "Shape of embedded time series: (5362, 11)\n",
      "Optimal embedding dimension is 11 and time delay is 59\n",
      "Shape of embedded time series: (2310, 13)\n",
      "Optimal embedding dimension is 13 and time delay is 54\n",
      "Shape of embedded time series: (6047, 20)\n",
      "Optimal embedding dimension is 20 and time delay is 48\n",
      "Shape of embedded time series: (6670, 21)\n",
      "Optimal embedding dimension is 21 and time delay is 54\n",
      "Shape of embedded time series: (7938, 27)\n",
      "Optimal embedding dimension is 27 and time delay is 66\n",
      "Shape of embedded time series: (5010, 13)\n",
      "Optimal embedding dimension is 13 and time delay is 44\n",
      "Shape of embedded time series: (11874, 14)\n",
      "Optimal embedding dimension is 14 and time delay is 97\n",
      "Shape of embedded time series: (6333, 14)\n",
      "Optimal embedding dimension is 14 and time delay is 47\n",
      "Shape of embedded time series: (4759, 12)\n",
      "Optimal embedding dimension is 12 and time delay is 90\n",
      "Shape of embedded time series: (7845, 30)\n",
      "Optimal embedding dimension is 30 and time delay is 100\n",
      "Shape of embedded time series: (7895, 12)\n",
      "Optimal embedding dimension is 12 and time delay is 55\n",
      "Shape of embedded time series: (5667, 19)\n",
      "Optimal embedding dimension is 19 and time delay is 91\n",
      "Shape of embedded time series: (11880, 13)\n",
      "Optimal embedding dimension is 13 and time delay is 100\n",
      "Shape of embedded time series: (5375, 21)\n",
      "Optimal embedding dimension is 21 and time delay is 100\n",
      "Shape of embedded time series: (11913, 16)\n",
      "Optimal embedding dimension is 16 and time delay is 58\n",
      "Shape of embedded time series: (6292, 21)\n",
      "Optimal embedding dimension is 21 and time delay is 51\n",
      "Shape of embedded time series: (5814, 23)\n",
      "Optimal embedding dimension is 23 and time delay is 54\n",
      "Shape of embedded time series: (4656, 26)\n",
      "Optimal embedding dimension is 26 and time delay is 50\n",
      "Shape of embedded time series: (5476, 22)\n",
      "Optimal embedding dimension is 22 and time delay is 47\n",
      "Shape of embedded time series: (3605, 10)\n",
      "Optimal embedding dimension is 10 and time delay is 55\n",
      "Shape of embedded time series: (8054, 19)\n",
      "Optimal embedding dimension is 19 and time delay is 45\n",
      "Shape of embedded time series: (3445, 7)\n",
      "Optimal embedding dimension is 7 and time delay is 51\n",
      "Shape of embedded time series: (5006, 13)\n",
      "Optimal embedding dimension is 13 and time delay is 47\n",
      "Shape of embedded time series: (5727, 27)\n",
      "Optimal embedding dimension is 27 and time delay is 40\n",
      "Shape of embedded time series: (3396, 16)\n",
      "Optimal embedding dimension is 16 and time delay is 53\n",
      "Shape of embedded time series: (11919, 19)\n",
      "Optimal embedding dimension is 19 and time delay is 45\n",
      "Shape of embedded time series: (5003, 13)\n",
      "Optimal embedding dimension is 13 and time delay is 50\n",
      "Shape of embedded time series: (7165, 13)\n",
      "Optimal embedding dimension is 13 and time delay is 40\n",
      "Shape of embedded time series: (4638, 13)\n",
      "Optimal embedding dimension is 13 and time delay is 55\n",
      "Shape of embedded time series: (11867, 15)\n",
      "Optimal embedding dimension is 15 and time delay is 95\n",
      "Shape of embedded time series: (9916, 11)\n",
      "Optimal embedding dimension is 11 and time delay is 62\n",
      "Shape of embedded time series: (6914, 19)\n",
      "Optimal embedding dimension is 19 and time delay is 63\n",
      "Shape of embedded time series: (4614, 28)\n",
      "Optimal embedding dimension is 28 and time delay is 62\n",
      "Shape of embedded time series: (9169, 11)\n",
      "Optimal embedding dimension is 11 and time delay is 67\n",
      "Shape of embedded time series: (6914, 20)\n",
      "Optimal embedding dimension is 20 and time delay is 60\n",
      "Shape of embedded time series: (8703, 16)\n",
      "Optimal embedding dimension is 16 and time delay is 48\n",
      "Shape of embedded time series: (3389, 19)\n",
      "Optimal embedding dimension is 19 and time delay is 48\n",
      "Shape of embedded time series: (9906, 13)\n",
      "Optimal embedding dimension is 13 and time delay is 60\n",
      "Shape of embedded time series: (5688, 17)\n",
      "Optimal embedding dimension is 17 and time delay is 89\n",
      "Shape of embedded time series: (4949, 8)\n",
      "Optimal embedding dimension is 8 and time delay is 90\n",
      "Shape of embedded time series: (4932, 9)\n",
      "Optimal embedding dimension is 9 and time delay is 99\n",
      "Shape of embedded time series: (4779, 10)\n",
      "Optimal embedding dimension is 10 and time delay is 88\n",
      "Shape of embedded time series: (4650, 11)\n",
      "Optimal embedding dimension is 11 and time delay is 54\n",
      "Shape of embedded time series: (6713, 14)\n",
      "Optimal embedding dimension is 14 and time delay is 50\n",
      "Shape of embedded time series: (4072, 13)\n",
      "Optimal embedding dimension is 13 and time delay is 58\n",
      "Shape of embedded time series: (5363, 12)\n",
      "Optimal embedding dimension is 12 and time delay is 53\n",
      "Shape of embedded time series: (11830, 18)\n",
      "Optimal embedding dimension is 18 and time delay is 100\n",
      "Shape of embedded time series: (9925, 11)\n",
      "Optimal embedding dimension is 11 and time delay is 53\n",
      "Shape of embedded time series: (7870, 13)\n",
      "Optimal embedding dimension is 13 and time delay is 50\n",
      "Shape of embedded time series: (5632, 27)\n",
      "Optimal embedding dimension is 27 and time delay is 47\n",
      "Shape of embedded time series: (4039, 21)\n",
      "Optimal embedding dimension is 21 and time delay is 51\n",
      "Shape of embedded time series: (7123, 10)\n",
      "Optimal embedding dimension is 10 and time delay is 100\n",
      "Shape of embedded time series: (6527, 25)\n",
      "Optimal embedding dimension is 25 and time delay is 62\n",
      "Shape of embedded time series: (7994, 14)\n",
      "Optimal embedding dimension is 14 and time delay is 49\n",
      "Shape of embedded time series: (7514, 12)\n",
      "Optimal embedding dimension is 12 and time delay is 52\n",
      "Shape of embedded time series: (9436, 13)\n",
      "Optimal embedding dimension is 13 and time delay is 46\n",
      "Shape of embedded time series: (5369, 24)\n",
      "Optimal embedding dimension is 24 and time delay is 56\n",
      "Shape of embedded time series: (11123, 8)\n",
      "Optimal embedding dimension is 8 and time delay is 46\n",
      "Shape of embedded time series: (7237, 13)\n",
      "Optimal embedding dimension is 13 and time delay is 87\n",
      "Shape of embedded time series: (11047, 20)\n",
      "Optimal embedding dimension is 20 and time delay is 57\n",
      "Shape of embedded time series: (8695, 20)\n",
      "Optimal embedding dimension is 20 and time delay is 69\n"
     ]
    },
    {
     "name": "stdout",
     "output_type": "stream",
     "text": [
      "Shape of embedded time series: (9445, 12)\n",
      "Optimal embedding dimension is 12 and time delay is 42\n",
      "Shape of embedded time series: (4729, 26)\n",
      "Optimal embedding dimension is 26 and time delay is 72\n",
      "Shape of embedded time series: (9606, 18)\n",
      "Optimal embedding dimension is 18 and time delay is 53\n",
      "Shape of embedded time series: (5687, 15)\n",
      "Optimal embedding dimension is 15 and time delay is 48\n",
      "Shape of embedded time series: (5072, 15)\n",
      "Optimal embedding dimension is 15 and time delay is 48\n",
      "Shape of embedded time series: (5224, 13)\n",
      "Optimal embedding dimension is 13 and time delay is 100\n",
      "Shape of embedded time series: (7984, 12)\n",
      "Optimal embedding dimension is 12 and time delay is 44\n",
      "Shape of embedded time series: (10464, 17)\n",
      "Optimal embedding dimension is 17 and time delay is 48\n",
      "Shape of embedded time series: (6528, 26)\n",
      "Optimal embedding dimension is 26 and time delay is 59\n",
      "Shape of embedded time series: (3897, 10)\n",
      "Optimal embedding dimension is 10 and time delay is 44\n",
      "Shape of embedded time series: (7222, 13)\n",
      "Optimal embedding dimension is 13 and time delay is 99\n",
      "Shape of embedded time series: (6825, 21)\n",
      "Optimal embedding dimension is 21 and time delay is 79\n",
      "Shape of embedded time series: (9306, 18)\n",
      "Optimal embedding dimension is 18 and time delay is 49\n",
      "Shape of embedded time series: (7636, 24)\n",
      "Optimal embedding dimension is 24 and time delay is 61\n",
      "Shape of embedded time series: (5670, 10)\n",
      "Optimal embedding dimension is 10 and time delay is 93\n",
      "Shape of embedded time series: (7971, 14)\n",
      "Optimal embedding dimension is 14 and time delay is 47\n",
      "Shape of embedded time series: (9357, 11)\n",
      "Optimal embedding dimension is 11 and time delay is 58\n",
      "Shape of embedded time series: (6156, 7)\n",
      "Optimal embedding dimension is 7 and time delay is 56\n",
      "Shape of embedded time series: (5012, 12)\n",
      "Optimal embedding dimension is 12 and time delay is 46\n",
      "Shape of embedded time series: (9599, 16)\n",
      "Optimal embedding dimension is 16 and time delay is 65\n",
      "Shape of embedded time series: (11036, 22)\n",
      "Optimal embedding dimension is 22 and time delay is 57\n",
      "Shape of embedded time series: (7505, 22)\n",
      "Optimal embedding dimension is 22 and time delay is 56\n",
      "Shape of embedded time series: (7231, 12)\n",
      "Optimal embedding dimension is 12 and time delay is 100\n",
      "Shape of embedded time series: (5012, 10)\n",
      "Optimal embedding dimension is 10 and time delay is 56\n",
      "Shape of embedded time series: (5365, 10)\n",
      "Optimal embedding dimension is 10 and time delay is 62\n",
      "Shape of embedded time series: (6140, 11)\n",
      "Optimal embedding dimension is 11 and time delay is 49\n",
      "Shape of embedded time series: (6573, 22)\n",
      "Optimal embedding dimension is 22 and time delay is 49\n",
      "Shape of embedded time series: (7630, 30)\n",
      "Optimal embedding dimension is 30 and time delay is 68\n",
      "Shape of embedded time series: (6144, 9)\n",
      "Optimal embedding dimension is 9 and time delay is 56\n",
      "Shape of embedded time series: (8736, 19)\n",
      "Optimal embedding dimension is 19 and time delay is 50\n",
      "Shape of embedded time series: (5371, 9)\n",
      "Optimal embedding dimension is 9 and time delay is 63\n",
      "Shape of embedded time series: (4689, 30)\n",
      "Optimal embedding dimension is 30 and time delay is 76\n",
      "Shape of embedded time series: (9225, 20)\n",
      "Optimal embedding dimension is 20 and time delay is 100\n",
      "Shape of embedded time series: (5685, 14)\n",
      "Optimal embedding dimension is 14 and time delay is 53\n",
      "Shape of embedded time series: (6118, 11)\n",
      "Optimal embedding dimension is 11 and time delay is 71\n",
      "Shape of embedded time series: (5373, 10)\n",
      "Optimal embedding dimension is 10 and time delay is 54\n",
      "Shape of embedded time series: (4815, 8)\n",
      "Optimal embedding dimension is 8 and time delay is 62\n",
      "Shape of embedded time series: (6924, 9)\n",
      "Optimal embedding dimension is 9 and time delay is 73\n",
      "Shape of embedded time series: (5836, 16)\n",
      "Optimal embedding dimension is 16 and time delay is 99\n",
      "Shape of embedded time series: (10432, 22)\n",
      "Optimal embedding dimension is 22 and time delay is 52\n",
      "Shape of embedded time series: (5194, 20)\n",
      "Optimal embedding dimension is 20 and time delay is 52\n",
      "Shape of embedded time series: (7343, 24)\n",
      "Optimal embedding dimension is 24 and time delay is 55\n",
      "Shape of embedded time series: (3887, 10)\n",
      "Optimal embedding dimension is 10 and time delay is 55\n",
      "Shape of embedded time series: (5341, 28)\n",
      "Optimal embedding dimension is 28 and time delay is 58\n",
      "Shape of embedded time series: (10060, 21)\n",
      "Optimal embedding dimension is 21 and time delay is 100\n",
      "Shape of embedded time series: (5013, 11)\n",
      "Optimal embedding dimension is 11 and time delay is 50\n",
      "Shape of embedded time series: (4923, 12)\n",
      "Optimal embedding dimension is 12 and time delay is 57\n",
      "Shape of embedded time series: (3885, 11)\n",
      "Optimal embedding dimension is 11 and time delay is 51\n",
      "Shape of embedded time series: (7507, 15)\n",
      "Optimal embedding dimension is 15 and time delay is 46\n",
      "Shape of embedded time series: (5674, 13)\n",
      "Optimal embedding dimension is 13 and time delay is 67\n",
      "Shape of embedded time series: (10439, 20)\n",
      "Optimal embedding dimension is 20 and time delay is 54\n",
      "Shape of embedded time series: (7318, 19)\n",
      "Optimal embedding dimension is 19 and time delay is 84\n",
      "Shape of embedded time series: (7526, 23)\n",
      "Optimal embedding dimension is 23 and time delay is 44\n",
      "Shape of embedded time series: (7501, 21)\n",
      "Optimal embedding dimension is 21 and time delay is 61\n",
      "Shape of embedded time series: (8018, 10)\n",
      "Optimal embedding dimension is 10 and time delay is 45\n",
      "Shape of embedded time series: (4808, 9)\n",
      "Optimal embedding dimension is 9 and time delay is 62\n",
      "Shape of embedded time series: (7782, 10)\n",
      "Optimal embedding dimension is 10 and time delay is 51\n",
      "Shape of embedded time series: (10090, 18)\n",
      "Optimal embedding dimension is 18 and time delay is 100\n",
      "Shape of embedded time series: (5688, 17)\n",
      "Optimal embedding dimension is 17 and time delay is 89\n",
      "Shape of embedded time series: (7631, 26)\n",
      "Optimal embedding dimension is 26 and time delay is 58\n",
      "Shape of embedded time series: (5067, 14)\n",
      "Optimal embedding dimension is 14 and time delay is 56\n",
      "Shape of embedded time series: (5690, 15)\n",
      "Optimal embedding dimension is 15 and time delay is 46\n",
      "Shape of embedded time series: (4777, 25)\n",
      "Optimal embedding dimension is 25 and time delay is 55\n",
      "Shape of embedded time series: (5210, 19)\n",
      "Optimal embedding dimension is 19 and time delay is 46\n",
      "Shape of embedded time series: (5632, 26)\n",
      "Optimal embedding dimension is 26 and time delay is 59\n",
      "Shape of embedded time series: (7977, 12)\n",
      "Optimal embedding dimension is 12 and time delay is 50\n",
      "Shape of embedded time series: (5277, 14)\n",
      "Optimal embedding dimension is 14 and time delay is 52\n",
      "Shape of embedded time series: (9305, 16)\n",
      "Optimal embedding dimension is 16 and time delay is 56\n",
      "Shape of embedded time series: (5363, 12)\n",
      "Optimal embedding dimension is 12 and time delay is 53\n",
      "Shape of embedded time series: (7363, 14)\n",
      "Optimal embedding dimension is 14 and time delay is 82\n",
      "Shape of embedded time series: (4928, 10)\n",
      "Optimal embedding dimension is 10 and time delay is 64\n",
      "Shape of embedded time series: (4941, 10)\n",
      "Optimal embedding dimension is 10 and time delay is 50\n",
      "Shape of embedded time series: (10051, 23)\n",
      "Optimal embedding dimension is 23 and time delay is 95\n",
      "Shape of embedded time series: (9622, 13)\n",
      "Optimal embedding dimension is 13 and time delay is 62\n",
      "Shape of embedded time series: (6882, 20)\n",
      "Optimal embedding dimension is 20 and time delay is 53\n"
     ]
    }
   ],
   "source": [
    "df = pd.read_csv('/home/manuella/Desktop/TPA/Project_3/all_data/train_dataset.csv')\n",
    "X_train = extract_features(df)"
   ]
  },
  {
   "cell_type": "markdown",
   "id": "53c8d146",
   "metadata": {},
   "source": [
    "### Train features\n"
   ]
  },
  {
   "cell_type": "code",
   "execution_count": 8,
   "id": "2dd71fc3",
   "metadata": {
    "scrolled": true
   },
   "outputs": [
    {
     "data": {
      "text/plain": [
       "array([[9.40892383e+00, 9.33790286e+00, 1.25125211e+11, ...,\n",
       "        7.26708853e-01, 1.05303707e+00, 7.26708853e-01],\n",
       "       [9.37242928e+00, 7.49982894e+00, 1.06629641e+11, ...,\n",
       "        3.13686234e-01, 7.60099197e-01, 3.13686234e-01],\n",
       "       [9.36883899e+00, 7.89504001e+00, 1.52723259e+11, ...,\n",
       "        2.16249191e-01, 5.73680199e-01, 2.16249191e-01],\n",
       "       ...,\n",
       "       [9.43575875e+00, 9.92775981e+00, 2.93440292e+11, ...,\n",
       "        6.18233128e-01, 7.18671743e-01, 6.18233128e-01],\n",
       "       [9.13134707e+00, 8.02114027e+00, 6.39021567e+10, ...,\n",
       "        8.16645367e-01, 1.22123122e+00, 8.16645367e-01],\n",
       "       [9.40221404e+00, 8.83305808e+00, 6.83350855e+10, ...,\n",
       "        6.16733879e-01, 1.07173575e+00, 6.16733879e-01]])"
      ]
     },
     "execution_count": 8,
     "metadata": {},
     "output_type": "execute_result"
    }
   ],
   "source": [
    "X_train"
   ]
  },
  {
   "cell_type": "code",
   "execution_count": 10,
   "id": "5a5adba9",
   "metadata": {},
   "outputs": [],
   "source": [
    "import pandas as pd\n",
    "\n",
    "# Load the dataset\n",
    "data = pd.read_csv('/home/manuella/Desktop/TPA/Project_3/all_data/train_dataset.csv')\n",
    "\n",
    "# Extract training labels\n",
    "training_labels = data['label']\n",
    "\n",
    "training_set_s = X_train\n",
    "\n",
    "#training_set_s = training_set_s.to_numpy()\n",
    "training_labels = training_labels.to_numpy()"
   ]
  },
  {
   "cell_type": "markdown",
   "id": "7fc40b03",
   "metadata": {},
   "source": [
    "## Extraction of features on the test set"
   ]
  },
  {
   "cell_type": "code",
   "execution_count": 11,
   "id": "84a35df9",
   "metadata": {
    "scrolled": true
   },
   "outputs": [
    {
     "name": "stdout",
     "output_type": "stream",
     "text": [
      "Shape of embedded time series: (6675, 24)\n",
      "Optimal embedding dimension is 24 and time delay is 45\n",
      "Shape of embedded time series: (7905, 24)\n",
      "Optimal embedding dimension is 24 and time delay is 100\n",
      "Shape of embedded time series: (5365, 14)\n",
      "Optimal embedding dimension is 14 and time delay is 43\n",
      "Shape of embedded time series: (7810, 13)\n",
      "Optimal embedding dimension is 13 and time delay is 100\n",
      "Shape of embedded time series: (7189, 6)\n",
      "Optimal embedding dimension is 6 and time delay is 48\n",
      "Shape of embedded time series: (2305, 13)\n",
      "Optimal embedding dimension is 13 and time delay is 58\n",
      "Shape of embedded time series: (9188, 11)\n",
      "Optimal embedding dimension is 11 and time delay is 48\n",
      "Shape of embedded time series: (8649, 15)\n",
      "Optimal embedding dimension is 15 and time delay is 90\n",
      "Shape of embedded time series: (6328, 15)\n",
      "Optimal embedding dimension is 15 and time delay is 47\n",
      "Shape of embedded time series: (5811, 26)\n",
      "Optimal embedding dimension is 26 and time delay is 49\n",
      "Shape of embedded time series: (4969, 10)\n",
      "Optimal embedding dimension is 10 and time delay is 47\n",
      "Shape of embedded time series: (3598, 12)\n",
      "Optimal embedding dimension is 12 and time delay is 52\n",
      "Shape of embedded time series: (4092, 9)\n",
      "Optimal embedding dimension is 9 and time delay is 61\n",
      "Shape of embedded time series: (4741, 8)\n",
      "Optimal embedding dimension is 8 and time delay is 58\n",
      "Shape of embedded time series: (6301, 20)\n",
      "Optimal embedding dimension is 20 and time delay is 49\n",
      "Shape of embedded time series: (7917, 9)\n",
      "Optimal embedding dimension is 9 and time delay is 48\n",
      "Shape of embedded time series: (5363, 12)\n",
      "Optimal embedding dimension is 12 and time delay is 53\n",
      "Shape of embedded time series: (5647, 26)\n",
      "Optimal embedding dimension is 26 and time delay is 43\n",
      "Shape of embedded time series: (7898, 12)\n",
      "Optimal embedding dimension is 12 and time delay is 52\n",
      "Shape of embedded time series: (11850, 16)\n",
      "Optimal embedding dimension is 16 and time delay is 100\n",
      "Shape of embedded time series: (8690, 22)\n",
      "Optimal embedding dimension is 22 and time delay is 65\n",
      "Shape of embedded time series: (5304, 10)\n",
      "Optimal embedding dimension is 10 and time delay is 45\n",
      "Shape of embedded time series: (7519, 12)\n",
      "Optimal embedding dimension is 12 and time delay is 48\n",
      "Shape of embedded time series: (9302, 16)\n",
      "Optimal embedding dimension is 16 and time delay is 58\n",
      "Shape of embedded time series: (5687, 15)\n",
      "Optimal embedding dimension is 15 and time delay is 48\n",
      "Shape of embedded time series: (5672, 23)\n",
      "Optimal embedding dimension is 23 and time delay is 49\n",
      "Shape of embedded time series: (5368, 27)\n",
      "Optimal embedding dimension is 27 and time delay is 50\n",
      "Shape of embedded time series: (6113, 16)\n",
      "Optimal embedding dimension is 16 and time delay is 51\n",
      "Shape of embedded time series: (5651, 24)\n",
      "Optimal embedding dimension is 24 and time delay is 56\n",
      "Shape of embedded time series: (7649, 28)\n",
      "Optimal embedding dimension is 28 and time delay is 66\n",
      "Shape of embedded time series: (5358, 11)\n",
      "Optimal embedding dimension is 11 and time delay is 63\n",
      "Shape of embedded time series: (10071, 25)\n",
      "Optimal embedding dimension is 25 and time delay is 100\n",
      "Shape of embedded time series: (7634, 30)\n",
      "Optimal embedding dimension is 30 and time delay is 49\n",
      "Shape of embedded time series: (4816, 9)\n",
      "Optimal embedding dimension is 9 and time delay is 52\n",
      "Shape of embedded time series: (10041, 28)\n",
      "Optimal embedding dimension is 28 and time delay is 100\n",
      "Shape of embedded time series: (10231, 9)\n",
      "Optimal embedding dimension is 9 and time delay is 100\n",
      "Shape of embedded time series: (6095, 16)\n",
      "Optimal embedding dimension is 16 and time delay is 63\n",
      "Shape of embedded time series: (9235, 19)\n",
      "Optimal embedding dimension is 19 and time delay is 100\n",
      "Shape of embedded time series: (5178, 22)\n",
      "Optimal embedding dimension is 22 and time delay is 55\n",
      "Shape of embedded time series: (5071, 13)\n",
      "Optimal embedding dimension is 13 and time delay is 57\n",
      "Shape of embedded time series: (9443, 12)\n",
      "Optimal embedding dimension is 12 and time delay is 44\n"
     ]
    }
   ],
   "source": [
    "import pandas as pd\n",
    "\n",
    "# Load the dataset\n",
    "data = pd.read_csv('/home/manuella/Desktop/TPA/Project_3/all_data/test_dataset.csv')\n",
    "\n",
    "#df = pd.read_csv('/home/manuella/Desktop/TPA/Project_3/all_data/train_dataset.csv')\n",
    "X_test = extract_features(data)\n",
    "\n",
    "# Extract training labels\n",
    "testing_labels = data['label']\n",
    "\n",
    "testing_set_s = X_test\n",
    "\n",
    "#training_set_s = training_set_s.to_numpy()\n",
    "testing_labels = testing_labels.to_numpy()"
   ]
  },
  {
   "cell_type": "markdown",
   "id": "be2ba51f",
   "metadata": {},
   "source": [
    "### Output Summary\n",
    "\n",
    "The output consists of a series of statements detailing the results of embedding multiple time series data. Each statement includes:\n",
    "\n",
    "1. **Shape of Embedded Time Series**:\n",
    "   - Presented as `(number_of_samples, embedding_dimension)`, indicating how many samples were embedded and into how many dimensions.\n",
    "\n",
    "2. **Optimal Embedding Dimension and Time Delay**:\n",
    "   - Specifies the best embedding dimension and the time delay used for the embedding process."
   ]
  },
  {
   "cell_type": "code",
   "execution_count": 12,
   "id": "e3ae9103",
   "metadata": {},
   "outputs": [
    {
     "data": {
      "text/plain": [
       "0.6585365853658537"
      ]
     },
     "execution_count": 12,
     "metadata": {},
     "output_type": "execute_result"
    }
   ],
   "source": [
    "from sklearn.ensemble import RandomForestClassifier\n",
    "\n",
    "rf = RandomForestClassifier(random_state = 34)\n",
    "rf.fit(training_set_s, training_labels)\n",
    "\n",
    "#X_test_tda = tda_union.transform(training_set_s)\n",
    "rf.score(testing_set_s, testing_labels)"
   ]
  },
  {
   "cell_type": "markdown",
   "id": "4115583d",
   "metadata": {},
   "source": [
    "---"
   ]
  },
  {
   "cell_type": "markdown",
   "id": "baa9a98f",
   "metadata": {},
   "source": [
    "---"
   ]
  },
  {
   "cell_type": "markdown",
   "id": "a94e765e",
   "metadata": {},
   "source": [
    "### Output Summary\n",
    "\n",
    "The output value of `0.6585365853658537` represents the accuracy of the Random Forest Classifier on the testing dataset, indicating that approximately **65.85%** of the predictions were correct.\n",
    "\n"
   ]
  },
  {
   "cell_type": "markdown",
   "id": "3bd9d5e6",
   "metadata": {},
   "source": [
    "---"
   ]
  },
  {
   "cell_type": "markdown",
   "id": "58f5aff1",
   "metadata": {},
   "source": [
    "---"
   ]
  },
  {
   "cell_type": "code",
   "execution_count": 13,
   "id": "8e0d112d",
   "metadata": {},
   "outputs": [
    {
     "data": {
      "text/plain": [
       "<sklearn.metrics._plot.confusion_matrix.ConfusionMatrixDisplay at 0x7f3ed8a22910>"
      ]
     },
     "execution_count": 13,
     "metadata": {},
     "output_type": "execute_result"
    },
    {
     "data": {
      "image/png": "[encoded data removed]",
      "text/plain": [
       "<Figure size 432x288 with 2 Axes>"
      ]
     },
     "metadata": {
      "needs_background": "light"
     },
     "output_type": "display_data"
    }
   ],
   "source": [
    "from sklearn.ensemble import RandomForestClassifier\n",
    "from sklearn.metrics import confusion_matrix, ConfusionMatrixDisplay\n",
    "\n",
    "# Train the Random Forest Classifier\n",
    "rf = RandomForestClassifier(random_state = 34)\n",
    "rf.fit(training_set_s, training_labels)\n",
    "\n",
    "# Predict the labels for the test set\n",
    "predictions = rf.predict(testing_set_s)\n",
    "\n",
    "# Calculate the confusion matrix\n",
    "cm = confusion_matrix(testing_labels, predictions)\n",
    "\n",
    "# Optionally, display the confusion matrix\n",
    "disp = ConfusionMatrixDisplay(confusion_matrix=cm)\n",
    "disp.plot()"
   ]
  },
  {
   "cell_type": "markdown",
   "id": "00e6e023",
   "metadata": {},
   "source": [
    "---"
   ]
  },
  {
   "cell_type": "markdown",
   "id": "d0fbfa26",
   "metadata": {},
   "source": [
    "### Confusion Matrix Output Summary\n",
    "\n",
    "The confusion matrix provides insights into the classification performance of the Random Forest Classifier:\n",
    "\n",
    "- **Correct Predictions**:\n",
    "    - Class '0' correctly predicted: **12**\n",
    "    - Class '1' correctly predicted: **15**\n",
    "\n",
    "- **Incorrect Predictions**:\n",
    "    - Class '0' misclassified as '1': **8** (False Positives)\n",
    "    - Class '1' misclassified as '0': **6** (False Negatives)\n",
    "    \n",
    "    \n",
    "The model is able to well classify the normal and asthma breathing"
   ]
  },
  {
   "cell_type": "markdown",
   "id": "1c8820b8",
   "metadata": {},
   "source": [
    "---"
   ]
  },
  {
   "cell_type": "code",
   "execution_count": 17,
   "id": "cb13c5ca",
   "metadata": {},
   "outputs": [
    {
     "data": {
      "text/html": [
       "<pre style=\"white-space:pre;overflow-x:auto;line-height:normal;font-family:Menlo,'DejaVu Sans Mono',consolas,'Courier New',monospace\"><span style=\"font-weight: bold\">Model: \"sequential_2\"</span>\n",
       "</pre>\n"
      ],
      "text/plain": [
       "\u001b[1mModel: \"sequential_2\"\u001b[0m\n"
      ]
     },
     "metadata": {},
     "output_type": "display_data"
    },
    {
     "data": {
      "text/html": [
       "<pre style=\"white-space:pre;overflow-x:auto;line-height:normal;font-family:Menlo,'DejaVu Sans Mono',consolas,'Courier New',monospace\">┏━━━━━━━━━━━━━━━━━━━━━━━━━━━━━━━━━┳━━━━━━━━━━━━━━━━━━━━━━━━┳━━━━━━━━━━━━━━━┓\n",
       "┃<span style=\"font-weight: bold\"> Layer (type)                    </span>┃<span style=\"font-weight: bold\"> Output Shape           </span>┃<span style=\"font-weight: bold\">       Param # </span>┃\n",
       "┡━━━━━━━━━━━━━━━━━━━━━━━━━━━━━━━━━╇━━━━━━━━━━━━━━━━━━━━━━━━╇━━━━━━━━━━━━━━━┩\n",
       "│ dense_10 (<span style=\"color: #0087ff; text-decoration-color: #0087ff\">Dense</span>)                │ (<span style=\"color: #00d7ff; text-decoration-color: #00d7ff\">None</span>, <span style=\"color: #00af00; text-decoration-color: #00af00\">104</span>)            │         <span style=\"color: #00af00; text-decoration-color: #00af00\">2,392</span> │\n",
       "├─────────────────────────────────┼────────────────────────┼───────────────┤\n",
       "│ dense_11 (<span style=\"color: #0087ff; text-decoration-color: #0087ff\">Dense</span>)                │ (<span style=\"color: #00d7ff; text-decoration-color: #00d7ff\">None</span>, <span style=\"color: #00af00; text-decoration-color: #00af00\">56</span>)             │         <span style=\"color: #00af00; text-decoration-color: #00af00\">5,880</span> │\n",
       "├─────────────────────────────────┼────────────────────────┼───────────────┤\n",
       "│ dense_12 (<span style=\"color: #0087ff; text-decoration-color: #0087ff\">Dense</span>)                │ (<span style=\"color: #00d7ff; text-decoration-color: #00d7ff\">None</span>, <span style=\"color: #00af00; text-decoration-color: #00af00\">28</span>)             │         <span style=\"color: #00af00; text-decoration-color: #00af00\">1,596</span> │\n",
       "├─────────────────────────────────┼────────────────────────┼───────────────┤\n",
       "│ dense_13 (<span style=\"color: #0087ff; text-decoration-color: #0087ff\">Dense</span>)                │ (<span style=\"color: #00d7ff; text-decoration-color: #00d7ff\">None</span>, <span style=\"color: #00af00; text-decoration-color: #00af00\">4</span>)              │           <span style=\"color: #00af00; text-decoration-color: #00af00\">116</span> │\n",
       "├─────────────────────────────────┼────────────────────────┼───────────────┤\n",
       "│ dense_14 (<span style=\"color: #0087ff; text-decoration-color: #0087ff\">Dense</span>)                │ (<span style=\"color: #00d7ff; text-decoration-color: #00d7ff\">None</span>, <span style=\"color: #00af00; text-decoration-color: #00af00\">1</span>)              │             <span style=\"color: #00af00; text-decoration-color: #00af00\">5</span> │\n",
       "└─────────────────────────────────┴────────────────────────┴───────────────┘\n",
       "</pre>\n"
      ],
      "text/plain": [
       "┏━━━━━━━━━━━━━━━━━━━━━━━━━━━━━━━━━┳━━━━━━━━━━━━━━━━━━━━━━━━┳━━━━━━━━━━━━━━━┓\n",
       "┃\u001b[1m \u001b[0m\u001b[1mLayer (type)                   \u001b[0m\u001b[1m \u001b[0m┃\u001b[1m \u001b[0m\u001b[1mOutput Shape          \u001b[0m\u001b[1m \u001b[0m┃\u001b[1m \u001b[0m\u001b[1m      Param #\u001b[0m\u001b[1m \u001b[0m┃\n",
       "┡━━━━━━━━━━━━━━━━━━━━━━━━━━━━━━━━━╇━━━━━━━━━━━━━━━━━━━━━━━━╇━━━━━━━━━━━━━━━┩\n",
       "│ dense_10 (\u001b[38;5;33mDense\u001b[0m)                │ (\u001b[38;5;45mNone\u001b[0m, \u001b[38;5;34m104\u001b[0m)            │         \u001b[38;5;34m2,392\u001b[0m │\n",
       "├─────────────────────────────────┼────────────────────────┼───────────────┤\n",
       "│ dense_11 (\u001b[38;5;33mDense\u001b[0m)                │ (\u001b[38;5;45mNone\u001b[0m, \u001b[38;5;34m56\u001b[0m)             │         \u001b[38;5;34m5,880\u001b[0m │\n",
       "├─────────────────────────────────┼────────────────────────┼───────────────┤\n",
       "│ dense_12 (\u001b[38;5;33mDense\u001b[0m)                │ (\u001b[38;5;45mNone\u001b[0m, \u001b[38;5;34m28\u001b[0m)             │         \u001b[38;5;34m1,596\u001b[0m │\n",
       "├─────────────────────────────────┼────────────────────────┼───────────────┤\n",
       "│ dense_13 (\u001b[38;5;33mDense\u001b[0m)                │ (\u001b[38;5;45mNone\u001b[0m, \u001b[38;5;34m4\u001b[0m)              │           \u001b[38;5;34m116\u001b[0m │\n",
       "├─────────────────────────────────┼────────────────────────┼───────────────┤\n",
       "│ dense_14 (\u001b[38;5;33mDense\u001b[0m)                │ (\u001b[38;5;45mNone\u001b[0m, \u001b[38;5;34m1\u001b[0m)              │             \u001b[38;5;34m5\u001b[0m │\n",
       "└─────────────────────────────────┴────────────────────────┴───────────────┘\n"
      ]
     },
     "metadata": {},
     "output_type": "display_data"
    },
    {
     "data": {
      "text/html": [
       "<pre style=\"white-space:pre;overflow-x:auto;line-height:normal;font-family:Menlo,'DejaVu Sans Mono',consolas,'Courier New',monospace\"><span style=\"font-weight: bold\"> Total params: </span><span style=\"color: #00af00; text-decoration-color: #00af00\">9,989</span> (39.02 KB)\n",
       "</pre>\n"
      ],
      "text/plain": [
       "\u001b[1m Total params: \u001b[0m\u001b[38;5;34m9,989\u001b[0m (39.02 KB)\n"
      ]
     },
     "metadata": {},
     "output_type": "display_data"
    },
    {
     "data": {
      "text/html": [
       "<pre style=\"white-space:pre;overflow-x:auto;line-height:normal;font-family:Menlo,'DejaVu Sans Mono',consolas,'Courier New',monospace\"><span style=\"font-weight: bold\"> Trainable params: </span><span style=\"color: #00af00; text-decoration-color: #00af00\">9,989</span> (39.02 KB)\n",
       "</pre>\n"
      ],
      "text/plain": [
       "\u001b[1m Trainable params: \u001b[0m\u001b[38;5;34m9,989\u001b[0m (39.02 KB)\n"
      ]
     },
     "metadata": {},
     "output_type": "display_data"
    },
    {
     "data": {
      "text/html": [
       "<pre style=\"white-space:pre;overflow-x:auto;line-height:normal;font-family:Menlo,'DejaVu Sans Mono',consolas,'Courier New',monospace\"><span style=\"font-weight: bold\"> Non-trainable params: </span><span style=\"color: #00af00; text-decoration-color: #00af00\">0</span> (0.00 B)\n",
       "</pre>\n"
      ],
      "text/plain": [
       "\u001b[1m Non-trainable params: \u001b[0m\u001b[38;5;34m0\u001b[0m (0.00 B)\n"
      ]
     },
     "metadata": {},
     "output_type": "display_data"
    }
   ],
   "source": [
    "nn = keras.Sequential([\n",
    "keras.layers.Dense(104, activation='relu',input_shape=(22, ) ),\n",
    "keras.layers.Dense(56, activation='relu' ),\n",
    "keras.layers.Dense(28,activation='relu'),\n",
    "keras.layers.Dense(4,activation='relu'),\n",
    "#keras.layers.Dense(32,activation='relu'),\n",
    "keras.layers.Dense(1,activation='relu')])\n",
    "    \n",
    "#,kernel_initializer= kernel_combined_1, bias_initializer= bias_combined_1\n",
    "\n",
    "opt = keras.optimizers.Adam(learning_rate=1e-5, weight_decay=1e-2)\n",
    "nn.compile(optimizer=opt,loss=keras.losses.BinaryCrossentropy(from_logits=False),\\\n",
    "           metrics=['accuracy'] )\n",
    "\n",
    "nn.summary()"
   ]
  },
  {
   "cell_type": "markdown",
   "id": "ac41fda0",
   "metadata": {},
   "source": [
    "---"
   ]
  },
  {
   "cell_type": "markdown",
   "id": "fd63fd62",
   "metadata": {},
   "source": [
    "---"
   ]
  },
  {
   "cell_type": "code",
   "execution_count": 18,
   "id": "c05b64a3",
   "metadata": {},
   "outputs": [
    {
     "name": "stdout",
     "output_type": "stream",
     "text": [
      "Epoch 1/10\n",
      "\u001b[1m2/2\u001b[0m \u001b[32m━━━━━━━━━━━━━━━━━━━━\u001b[0m\u001b[37m\u001b[0m \u001b[1m1s\u001b[0m 135ms/step - accuracy: 0.4688 - loss: 8.5615 - val_accuracy: 0.4878 - val_loss: 8.2556\n",
      "Epoch 2/10\n",
      "\u001b[1m2/2\u001b[0m \u001b[32m━━━━━━━━━━━━━━━━━━━━\u001b[0m\u001b[37m\u001b[0m \u001b[1m0s\u001b[0m 36ms/step - accuracy: 0.4609 - loss: 8.6875 - val_accuracy: 0.4878 - val_loss: 8.2556\n",
      "Epoch 3/10\n",
      "\u001b[1m2/2\u001b[0m \u001b[32m━━━━━━━━━━━━━━━━━━━━\u001b[0m\u001b[37m\u001b[0m \u001b[1m0s\u001b[0m 36ms/step - accuracy: 0.4714 - loss: 8.5200 - val_accuracy: 0.4878 - val_loss: 8.2556\n",
      "Epoch 4/10\n",
      "\u001b[1m2/2\u001b[0m \u001b[32m━━━━━━━━━━━━━━━━━━━━\u001b[0m\u001b[37m\u001b[0m \u001b[1m0s\u001b[0m 37ms/step - accuracy: 0.4688 - loss: 8.5615 - val_accuracy: 0.4878 - val_loss: 8.2556\n",
      "Epoch 5/10\n",
      "\u001b[1m2/2\u001b[0m \u001b[32m━━━━━━━━━━━━━━━━━━━━\u001b[0m\u001b[37m\u001b[0m \u001b[1m0s\u001b[0m 36ms/step - accuracy: 0.4609 - loss: 8.6875 - val_accuracy: 0.4878 - val_loss: 8.2556\n",
      "Epoch 6/10\n",
      "\u001b[1m2/2\u001b[0m \u001b[32m━━━━━━━━━━━━━━━━━━━━\u001b[0m\u001b[37m\u001b[0m \u001b[1m0s\u001b[0m 35ms/step - accuracy: 0.4714 - loss: 8.5196 - val_accuracy: 0.4878 - val_loss: 8.2556\n",
      "Epoch 7/10\n",
      "\u001b[1m2/2\u001b[0m \u001b[32m━━━━━━━━━━━━━━━━━━━━\u001b[0m\u001b[37m\u001b[0m \u001b[1m0s\u001b[0m 34ms/step - accuracy: 0.4714 - loss: 8.5196 - val_accuracy: 0.4878 - val_loss: 8.2556\n",
      "Epoch 8/10\n",
      "\u001b[1m2/2\u001b[0m \u001b[32m━━━━━━━━━━━━━━━━━━━━\u001b[0m\u001b[37m\u001b[0m \u001b[1m0s\u001b[0m 35ms/step - accuracy: 0.4635 - loss: 8.6455 - val_accuracy: 0.4878 - val_loss: 8.2556\n",
      "Epoch 9/10\n",
      "\u001b[1m2/2\u001b[0m \u001b[32m━━━━━━━━━━━━━━━━━━━━\u001b[0m\u001b[37m\u001b[0m \u001b[1m0s\u001b[0m 36ms/step - accuracy: 0.4740 - loss: 8.4776 - val_accuracy: 0.4878 - val_loss: 8.2556\n",
      "Epoch 10/10\n",
      "\u001b[1m2/2\u001b[0m \u001b[32m━━━━━━━━━━━━━━━━━━━━\u001b[0m\u001b[37m\u001b[0m \u001b[1m0s\u001b[0m 35ms/step - accuracy: 0.4661 - loss: 8.6035 - val_accuracy: 0.4878 - val_loss: 8.2556\n",
      "\u001b[1m2/2\u001b[0m \u001b[32m━━━━━━━━━━━━━━━━━━━━\u001b[0m\u001b[37m\u001b[0m \u001b[1m0s\u001b[0m 34ms/step\n"
     ]
    },
    {
     "data": {
      "text/plain": [
       "<sklearn.metrics._plot.confusion_matrix.ConfusionMatrixDisplay at 0x7f3f31fd1460>"
      ]
     },
     "execution_count": 18,
     "metadata": {},
     "output_type": "execute_result"
    },
    {
     "data": {
      "image/png": "[encoded data removed]",
      "text/plain": [
       "<Figure size 432x288 with 2 Axes>"
      ]
     },
     "metadata": {
      "needs_background": "light"
     },
     "output_type": "display_data"
    }
   ],
   "source": [
    "import numpy as np\n",
    "from sklearn.preprocessing import LabelEncoder\n",
    "from sklearn.metrics import confusion_matrix, ConfusionMatrixDisplay\n",
    "\n",
    "# Assuming training_labels is a pandas series or list of strings\n",
    "le = LabelEncoder()\n",
    "training_labels = le.fit_transform(training_labels)\n",
    "testing_labels = le.transform(testing_labels)  # Apply the same transformation to test labels\n",
    "\n",
    "# Ensure they are numpy arrays\n",
    "training_labels = np.array(training_labels)\n",
    "testing_labels = np.array(testing_labels)\n",
    "\n",
    "# Fit the model\n",
    "nn.fit(x=training_set_s, y=training_labels, validation_data=(testing_set_s, testing_labels), epochs=10, shuffle=True, batch_size=128)\n",
    "\n",
    "# Make predictions on the testing set\n",
    "predictions = nn.predict(testing_set_s)\n",
    "predicted_labels = np.argmax(predictions, axis=1)  # For multi-class classification\n",
    "\n",
    "# Calculate the confusion matrix\n",
    "cm = confusion_matrix(testing_labels, predicted_labels)\n",
    "\n",
    "# Optionally, display the confusion matrix\n",
    "disp = ConfusionMatrixDisplay(confusion_matrix=cm, display_labels=le.classes_)\n",
    "disp.plot()"
   ]
  },
  {
   "cell_type": "markdown",
   "id": "5c453ef5",
   "metadata": {},
   "source": [
    "### Summary of Neural Network Training (10 Epochs)\n",
    "\n",
    "- **Epoch Performance**:\n",
    "  - Training accuracy fluctuated between **0.4688** and **0.4661**, with the highest accuracy in Epoch 3.\n",
    "  - Validation accuracy remained constant at **0.4878** throughout all epochs.\n",
    "  - Training loss showed slight variations but did not improve significantly.\n",
    "\n",
    "### Observations\n",
    "- The model's performance did not improve over the epochs, indicating potential issues such as overfitting or inadequate model complexity.\n",
    "\n",
    "- Also the confusion matrix show that the model classify all the data as asthma\n",
    "\n"
   ]
  },
  {
   "cell_type": "markdown",
   "id": "28f56ee2",
   "metadata": {},
   "source": [
    "### Conclusion\n",
    "\n",
    "The objective of this project was to extract topological features from audios and train a model capable of classifying each breathing(normal and asthma).\n",
    "\n",
    "Our results indicate that the 22 features we successfully extracted significantly enhance our ability to classify the data but the test are not really good.\n",
    "\n",
    "So, we can try to improve the accuracy by adding features. "
   ]
  },
  {
   "cell_type": "code",
   "execution_count": null,
   "id": "ca58687a",
   "metadata": {},
   "outputs": [],
   "source": []
  }
 ],
 "metadata": {
  "kernelspec": {
   "display_name": "Python 3 (ipykernel)",
   "language": "python",
   "name": "python3"
  },
  "language_info": {
   "codemirror_mode": {
    "name": "ipython",
    "version": 3
   },
   "file_extension": ".py",
   "mimetype": "text/x-python",
   "name": "python",
   "nbconvert_exporter": "python",
   "pygments_lexer": "ipython3",
   "version": "3.8.10"
  }
 },
 "nbformat": 4,
 "nbformat_minor": 5
}
