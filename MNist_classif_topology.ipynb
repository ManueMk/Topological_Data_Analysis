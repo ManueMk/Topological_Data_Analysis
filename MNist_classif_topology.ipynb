{
 "cells": [
  {
   "cell_type": "markdown",
   "id": "e68a7500",
   "metadata": {},
   "source": [
    "# MNIST CLASSIFICATION USING TOPOLOGICAL FEATURES AND  RANDOM FOREST"
   ]
  },
  {
   "cell_type": "code",
   "execution_count": null,
   "id": "80c69a23",
   "metadata": {},
   "outputs": [],
   "source": []
  },
  {
   "cell_type": "markdown",
   "id": "1916e650",
   "metadata": {},
   "source": [
    "## Importations of libraries"
   ]
  },
  {
   "cell_type": "code",
   "execution_count": 2,
   "id": "7fdf976f",
   "metadata": {},
   "outputs": [
    {
     "name": "stdout",
     "output_type": "stream",
     "text": [
      "No Bottleneck unit testing available.\n"
     ]
    },
    {
     "name": "stderr",
     "output_type": "stream",
     "text": [
      "/home/manuella/.local/lib/python3.9/site-packages/pandas/core/arrays/masked.py:59: UserWarning: Pandas requires version '1.3.2' or newer of 'bottleneck' (version '1.2.1' currently installed).\n",
      "  from pandas.core import (\n"
     ]
    }
   ],
   "source": [
    "import pickle\n",
    "import numpy as np\n",
    "import matplotlib.pyplot as plt\n",
    "\n",
    "# data wrangling\n",
    "import numpy as np\n",
    "import pandas as pd\n",
    "from pathlib import Path\n",
    "from IPython.display import YouTubeVideo\n",
    "from fastprogress import progress_bar\n",
    "\n",
    "# hepml\n",
    "from hepml.core import make_gravitational_waves, download_dataset\n",
    "\n",
    "# tda magic\n",
    "from gtda.homology import VietorisRipsPersistence, CubicalPersistence\n",
    "from gtda.diagrams import PersistenceEntropy, Scaler\n",
    "from gtda.plotting import plot_heatmap, plot_point_cloud, plot_diagram\n",
    "from gtda.pipeline import Pipeline\n",
    "from gtda.time_series import TakensEmbedding\n",
    "from gtda.time_series import SingleTakensEmbedding\n",
    "\n",
    "# ml tools\n",
    "from sklearn.ensemble import RandomForestClassifier\n",
    "from sklearn.decomposition import PCA\n",
    "from sklearn.model_selection import train_test_split\n",
    "from sklearn.metrics import roc_curve, roc_auc_score, accuracy_score\n",
    "\n",
    "# dataviz\n",
    "import matplotlib.pyplot as plt\n",
    "import seaborn as sns\n",
    "\n",
    "sns.set(color_codes=True)\n",
    "sns.set_palette(sns.color_palette(\"muted\"))\n",
    "\n",
    "from sklearn.pipeline import make_pipeline, make_union\n",
    "from gtda.diagrams import PersistenceEntropy\n",
    "from gtda.images import HeightFiltration\n",
    "\n",
    "from sklearn.pipeline import Pipeline\n",
    "from gtda.diagrams import Amplitude\n",
    "from gtda.images import RadialFiltration\n",
    "from gtda.images import Binarizer\n",
    "\n",
    "from teaspoon.ML import feature_functions as Ff\n",
    "from gtda.diagrams import PersistenceEntropy"
   ]
  },
  {
   "cell_type": "markdown",
   "id": "683b517c",
   "metadata": {},
   "source": [
    "## Splitting of the dataset on train and test"
   ]
  },
  {
   "cell_type": "code",
   "execution_count": 3,
   "id": "bb1eaed0",
   "metadata": {},
   "outputs": [],
   "source": [
    "n_samples = 1000 # number of loaded MNIST handwritten digits\n",
    "\n",
    "n_features = 32 # number of features per image\n",
    "image_size = 28 # MNIST handwritten digits images are 28x28\n",
    "data_X = np.load('/home/manuella/Desktop/TPA/Project_3/X_' + str(n_samples) + '.npy', allow_pickle=True)\n",
    "data_y = np.load('/home/manuella/Desktop/TPA/Project_3/y_'  + str(n_samples) + '.npy', allow_pickle=True)"
   ]
  },
  {
   "cell_type": "markdown",
   "id": "af3162cb",
   "metadata": {},
   "source": [
    "## Reshaping of the datasets"
   ]
  },
  {
   "cell_type": "code",
   "execution_count": 4,
   "id": "50c737cc",
   "metadata": {},
   "outputs": [
    {
     "name": "stdout",
     "output_type": "stream",
     "text": [
      "X_train shape: (250, 28, 28), y_train shape: (250,)\n",
      "X_test shape: (60, 28, 28), y_test shape: (60,)\n"
     ]
    }
   ],
   "source": [
    "from sklearn.model_selection import train_test_split\n",
    "\n",
    "train_size, test_size = 250, 60\n",
    "\n",
    "# Reshape to (n_samples, n_pixels_x, n_pixels_y)\n",
    "y = data_y\n",
    "X = data_X.reshape((-1, 28, 28))\n",
    "\n",
    "X_train, X_test, y_train, y_test = train_test_split(\n",
    "    X, y, train_size=train_size, test_size=test_size, stratify=y, random_state=666\n",
    ")\n",
    "\n",
    "print(f\"X_train shape: {X_train.shape}, y_train shape: {y_train.shape}\")\n",
    "print(f\"X_test shape: {X_test.shape}, y_test shape: {y_test.shape}\")"
   ]
  },
  {
   "cell_type": "markdown",
   "id": "ae38cfcb",
   "metadata": {},
   "source": [
    "### Persistent diagram"
   ]
  },
  {
   "cell_type": "code",
   "execution_count": 5,
   "id": "76fd7b8f",
   "metadata": {},
   "outputs": [],
   "source": [
    "from sklearn.pipeline import make_pipeline, make_union\n",
    "from gtda.diagrams import PersistenceEntropy\n",
    "from gtda.images import HeightFiltration\n",
    "\n",
    "direction_list = [[1, 0], [1, 1], [0, 1], [-1, 1], [-1, 0], [-1, -1], [0, -1], [1, -1]]\n",
    "\n",
    "center_list = [\n",
    "    [13, 6],\n",
    "    [6, 13],\n",
    "    [13, 13],\n",
    "    [20, 13],\n",
    "    [13, 20],\n",
    "    [6, 6],\n",
    "    [6, 20],\n",
    "    [20, 6],\n",
    "    [20, 20],\n",
    "]\n",
    "\n",
    "# Creating a list of all filtration transformer, we will be applying\n",
    "filtration_list = (\n",
    "    [\n",
    "        HeightFiltration(direction=np.array(direction), n_jobs=-1)\n",
    "        for direction in direction_list\n",
    "    ]\n",
    "    + [RadialFiltration(center=np.array(center), n_jobs=-1) for center in center_list]\n",
    ")\n",
    "\n",
    "# Creating the diagram generation pipeline\n",
    "diagram_steps = [\n",
    "    [\n",
    "        Binarizer(threshold=0.4, n_jobs=-1),\n",
    "        filtration,\n",
    "        CubicalPersistence(n_jobs=-1),\n",
    "        Scaler(n_jobs=-1),\n",
    "    ]\n",
    "    for filtration in filtration_list\n",
    "]\n",
    "\n",
    "# Listing all metrics we want to use to extract diagram amplitudes\n",
    "metric_list = [\n",
    "    {\"metric\": \"bottleneck\", \"metric_params\": {}},\n",
    "    {\"metric\": \"wasserstein\", \"metric_params\": {\"p\": 1}},\n",
    "    {\"metric\": \"wasserstein\", \"metric_params\": {\"p\": 2}},\n",
    "    {\"metric\": \"landscape\", \"metric_params\": {\"p\": 1, \"n_layers\": 1, \"n_bins\": 100}},\n",
    "    {\"metric\": \"landscape\", \"metric_params\": {\"p\": 1, \"n_layers\": 2, \"n_bins\": 100}},\n",
    "    {\"metric\": \"landscape\", \"metric_params\": {\"p\": 2, \"n_layers\": 1, \"n_bins\": 100}},\n",
    "    {\"metric\": \"landscape\", \"metric_params\": {\"p\": 2, \"n_layers\": 2, \"n_bins\": 100}},\n",
    "    {\"metric\": \"betti\", \"metric_params\": {\"p\": 1, \"n_bins\": 100}},\n",
    "    {\"metric\": \"betti\", \"metric_params\": {\"p\": 2, \"n_bins\": 100}},\n",
    "    {\"metric\": \"heat\", \"metric_params\": {\"p\": 1, \"sigma\": 1.6, \"n_bins\": 100}},\n",
    "    {\"metric\": \"heat\", \"metric_params\": {\"p\": 1, \"sigma\": 3.2, \"n_bins\": 100}},\n",
    "    {\"metric\": \"heat\", \"metric_params\": {\"p\": 2, \"sigma\": 1.6, \"n_bins\": 100}},\n",
    "    {\"metric\": \"heat\", \"metric_params\": {\"p\": 2, \"sigma\": 3.2, \"n_bins\": 100}},\n",
    "]\n",
    "\n",
    "#\n",
    "feature_union = make_union(\n",
    "    *[PersistenceEntropy(nan_fill_value=-1)]\n",
    "    + [Amplitude(**metric, n_jobs=-1) for metric in metric_list]\n",
    ")\n",
    "\n",
    "tda_union = make_union(\n",
    "    *[make_pipeline(*diagram_step) for diagram_step in diagram_steps],\n",
    "    n_jobs=-1\n",
    ")"
   ]
  },
  {
   "cell_type": "code",
   "execution_count": 6,
   "id": "eb14adc3",
   "metadata": {},
   "outputs": [
    {
     "data": {
      "text/html": [
       "<style>#sk-container-id-1 {color: black;}#sk-container-id-1 pre{padding: 0;}#sk-container-id-1 div.sk-toggleable {background-color: white;}#sk-container-id-1 label.sk-toggleable__label {cursor: pointer;display: block;width: 100%;margin-bottom: 0;padding: 0.3em;box-sizing: border-box;text-align: center;}#sk-container-id-1 label.sk-toggleable__label-arrow:before {content: \"▸\";float: left;margin-right: 0.25em;color: #696969;}#sk-container-id-1 label.sk-toggleable__label-arrow:hover:before {color: black;}#sk-container-id-1 div.sk-estimator:hover label.sk-toggleable__label-arrow:before {color: black;}#sk-container-id-1 div.sk-toggleable__content {max-height: 0;max-width: 0;overflow: hidden;text-align: left;background-color: #f0f8ff;}#sk-container-id-1 div.sk-toggleable__content pre {margin: 0.2em;color: black;border-radius: 0.25em;background-color: #f0f8ff;}#sk-container-id-1 input.sk-toggleable__control:checked~div.sk-toggleable__content {max-height: 200px;max-width: 100%;overflow: auto;}#sk-container-id-1 input.sk-toggleable__control:checked~label.sk-toggleable__label-arrow:before {content: \"▾\";}#sk-container-id-1 div.sk-estimator input.sk-toggleable__control:checked~label.sk-toggleable__label {background-color: #d4ebff;}#sk-container-id-1 div.sk-label input.sk-toggleable__control:checked~label.sk-toggleable__label {background-color: #d4ebff;}#sk-container-id-1 input.sk-hidden--visually {border: 0;clip: rect(1px 1px 1px 1px);clip: rect(1px, 1px, 1px, 1px);height: 1px;margin: -1px;overflow: hidden;padding: 0;position: absolute;width: 1px;}#sk-container-id-1 div.sk-estimator {font-family: monospace;background-color: #f0f8ff;border: 1px dotted black;border-radius: 0.25em;box-sizing: border-box;margin-bottom: 0.5em;}#sk-container-id-1 div.sk-estimator:hover {background-color: #d4ebff;}#sk-container-id-1 div.sk-parallel-item::after {content: \"\";width: 100%;border-bottom: 1px solid gray;flex-grow: 1;}#sk-container-id-1 div.sk-label:hover label.sk-toggleable__label {background-color: #d4ebff;}#sk-container-id-1 div.sk-serial::before {content: \"\";position: absolute;border-left: 1px solid gray;box-sizing: border-box;top: 0;bottom: 0;left: 50%;z-index: 0;}#sk-container-id-1 div.sk-serial {display: flex;flex-direction: column;align-items: center;background-color: white;padding-right: 0.2em;padding-left: 0.2em;position: relative;}#sk-container-id-1 div.sk-item {position: relative;z-index: 1;}#sk-container-id-1 div.sk-parallel {display: flex;align-items: stretch;justify-content: center;background-color: white;position: relative;}#sk-container-id-1 div.sk-item::before, #sk-container-id-1 div.sk-parallel-item::before {content: \"\";position: absolute;border-left: 1px solid gray;box-sizing: border-box;top: 0;bottom: 0;left: 50%;z-index: -1;}#sk-container-id-1 div.sk-parallel-item {display: flex;flex-direction: column;z-index: 1;position: relative;background-color: white;}#sk-container-id-1 div.sk-parallel-item:first-child::after {align-self: flex-end;width: 50%;}#sk-container-id-1 div.sk-parallel-item:last-child::after {align-self: flex-start;width: 50%;}#sk-container-id-1 div.sk-parallel-item:only-child::after {width: 0;}#sk-container-id-1 div.sk-dashed-wrapped {border: 1px dashed gray;margin: 0 0.4em 0.5em 0.4em;box-sizing: border-box;padding-bottom: 0.4em;background-color: white;}#sk-container-id-1 div.sk-label label {font-family: monospace;font-weight: bold;display: inline-block;line-height: 1.2em;}#sk-container-id-1 div.sk-label-container {text-align: center;}#sk-container-id-1 div.sk-container {/* jupyter's `normalize.less` sets `[hidden] { display: none; }` but bootstrap.min.css set `[hidden] { display: none !important; }` so we also need the `!important` here to be able to override the default hidden behavior on the sphinx rendered scikit-learn.org. See: https://github.com/scikit-learn/scikit-learn/issues/21755 */display: inline-block !important;position: relative;}#sk-container-id-1 div.sk-text-repr-fallback {display: none;}</style><div id=\"sk-container-id-1\" class=\"sk-top-container\"><div class=\"sk-text-repr-fallback\"><pre>FeatureUnion(n_jobs=-1,\n",
       "             transformer_list=[(&#x27;pipeline-1&#x27;,\n",
       "                                Pipeline(steps=[(&#x27;binarizer&#x27;,\n",
       "                                                 Binarizer(n_jobs=-1,\n",
       "                                                           threshold=0.4)),\n",
       "                                                (&#x27;heightfiltration&#x27;,\n",
       "                                                 HeightFiltration(direction=array([1, 0]),\n",
       "                                                                  n_jobs=-1)),\n",
       "                                                (&#x27;cubicalpersistence&#x27;,\n",
       "                                                 CubicalPersistence(n_jobs=-1)),\n",
       "                                                (&#x27;scaler&#x27;,\n",
       "                                                 Scaler(n_jobs=-1))])),\n",
       "                               (&#x27;pipeline-2&#x27;,\n",
       "                                Pipeline(steps=[(&#x27;binarizer&#x27;,\n",
       "                                                 Binarizer(n_jobs=-1,\n",
       "                                                           threshold=...\n",
       "                                                 RadialFiltration(center=array([20,  6]),\n",
       "                                                                  n_jobs=-1)),\n",
       "                                                (&#x27;cubicalpersistence&#x27;,\n",
       "                                                 CubicalPersistence(n_jobs=-1)),\n",
       "                                                (&#x27;scaler&#x27;,\n",
       "                                                 Scaler(n_jobs=-1))])),\n",
       "                               (&#x27;pipeline-17&#x27;,\n",
       "                                Pipeline(steps=[(&#x27;binarizer&#x27;,\n",
       "                                                 Binarizer(n_jobs=-1,\n",
       "                                                           threshold=0.4)),\n",
       "                                                (&#x27;radialfiltration&#x27;,\n",
       "                                                 RadialFiltration(center=array([20, 20]),\n",
       "                                                                  n_jobs=-1)),\n",
       "                                                (&#x27;cubicalpersistence&#x27;,\n",
       "                                                 CubicalPersistence(n_jobs=-1)),\n",
       "                                                (&#x27;scaler&#x27;,\n",
       "                                                 Scaler(n_jobs=-1))]))])</pre><b>In a Jupyter environment, please rerun this cell to show the HTML representation or trust the notebook. <br />On GitHub, the HTML representation is unable to render, please try loading this page with nbviewer.org.</b></div><div class=\"sk-container\" hidden><div class=\"sk-item sk-dashed-wrapped\"><div class=\"sk-label-container\"><div class=\"sk-label sk-toggleable\"><input class=\"sk-toggleable__control sk-hidden--visually\" id=\"sk-estimator-id-1\" type=\"checkbox\" ><label for=\"sk-estimator-id-1\" class=\"sk-toggleable__label sk-toggleable__label-arrow\">FeatureUnion</label><div class=\"sk-toggleable__content\"><pre>FeatureUnion(n_jobs=-1,\n",
       "             transformer_list=[(&#x27;pipeline-1&#x27;,\n",
       "                                Pipeline(steps=[(&#x27;binarizer&#x27;,\n",
       "                                                 Binarizer(n_jobs=-1,\n",
       "                                                           threshold=0.4)),\n",
       "                                                (&#x27;heightfiltration&#x27;,\n",
       "                                                 HeightFiltration(direction=array([1, 0]),\n",
       "                                                                  n_jobs=-1)),\n",
       "                                                (&#x27;cubicalpersistence&#x27;,\n",
       "                                                 CubicalPersistence(n_jobs=-1)),\n",
       "                                                (&#x27;scaler&#x27;,\n",
       "                                                 Scaler(n_jobs=-1))])),\n",
       "                               (&#x27;pipeline-2&#x27;,\n",
       "                                Pipeline(steps=[(&#x27;binarizer&#x27;,\n",
       "                                                 Binarizer(n_jobs=-1,\n",
       "                                                           threshold=...\n",
       "                                                 RadialFiltration(center=array([20,  6]),\n",
       "                                                                  n_jobs=-1)),\n",
       "                                                (&#x27;cubicalpersistence&#x27;,\n",
       "                                                 CubicalPersistence(n_jobs=-1)),\n",
       "                                                (&#x27;scaler&#x27;,\n",
       "                                                 Scaler(n_jobs=-1))])),\n",
       "                               (&#x27;pipeline-17&#x27;,\n",
       "                                Pipeline(steps=[(&#x27;binarizer&#x27;,\n",
       "                                                 Binarizer(n_jobs=-1,\n",
       "                                                           threshold=0.4)),\n",
       "                                                (&#x27;radialfiltration&#x27;,\n",
       "                                                 RadialFiltration(center=array([20, 20]),\n",
       "                                                                  n_jobs=-1)),\n",
       "                                                (&#x27;cubicalpersistence&#x27;,\n",
       "                                                 CubicalPersistence(n_jobs=-1)),\n",
       "                                                (&#x27;scaler&#x27;,\n",
       "                                                 Scaler(n_jobs=-1))]))])</pre></div></div></div><div class=\"sk-parallel\"><div class=\"sk-parallel-item\"><div class=\"sk-item\"><div class=\"sk-label-container\"><div class=\"sk-label sk-toggleable\"><label>pipeline-1</label></div></div><div class=\"sk-serial\"><div class=\"sk-item\"><div class=\"sk-serial\"><div class=\"sk-item\"><div class=\"sk-estimator sk-toggleable\"><input class=\"sk-toggleable__control sk-hidden--visually\" id=\"sk-estimator-id-2\" type=\"checkbox\" ><label for=\"sk-estimator-id-2\" class=\"sk-toggleable__label sk-toggleable__label-arrow\">Binarizer</label><div class=\"sk-toggleable__content\"><pre>Binarizer(n_jobs=-1, threshold=0.4)</pre></div></div></div><div class=\"sk-item\"><div class=\"sk-estimator sk-toggleable\"><input class=\"sk-toggleable__control sk-hidden--visually\" id=\"sk-estimator-id-3\" type=\"checkbox\" ><label for=\"sk-estimator-id-3\" class=\"sk-toggleable__label sk-toggleable__label-arrow\">HeightFiltration</label><div class=\"sk-toggleable__content\"><pre>HeightFiltration(direction=array([1, 0]), n_jobs=-1)</pre></div></div></div><div class=\"sk-item\"><div class=\"sk-estimator sk-toggleable\"><input class=\"sk-toggleable__control sk-hidden--visually\" id=\"sk-estimator-id-4\" type=\"checkbox\" ><label for=\"sk-estimator-id-4\" class=\"sk-toggleable__label sk-toggleable__label-arrow\">CubicalPersistence</label><div class=\"sk-toggleable__content\"><pre>CubicalPersistence(n_jobs=-1)</pre></div></div></div><div class=\"sk-item\"><div class=\"sk-estimator sk-toggleable\"><input class=\"sk-toggleable__control sk-hidden--visually\" id=\"sk-estimator-id-5\" type=\"checkbox\" ><label for=\"sk-estimator-id-5\" class=\"sk-toggleable__label sk-toggleable__label-arrow\">Scaler</label><div class=\"sk-toggleable__content\"><pre>Scaler(n_jobs=-1)</pre></div></div></div></div></div></div></div></div><div class=\"sk-parallel-item\"><div class=\"sk-item\"><div class=\"sk-label-container\"><div class=\"sk-label sk-toggleable\"><label>pipeline-2</label></div></div><div class=\"sk-serial\"><div class=\"sk-item\"><div class=\"sk-serial\"><div class=\"sk-item\"><div class=\"sk-estimator sk-toggleable\"><input class=\"sk-toggleable__control sk-hidden--visually\" id=\"sk-estimator-id-6\" type=\"checkbox\" ><label for=\"sk-estimator-id-6\" class=\"sk-toggleable__label sk-toggleable__label-arrow\">Binarizer</label><div class=\"sk-toggleable__content\"><pre>Binarizer(n_jobs=-1, threshold=0.4)</pre></div></div></div><div class=\"sk-item\"><div class=\"sk-estimator sk-toggleable\"><input class=\"sk-toggleable__control sk-hidden--visually\" id=\"sk-estimator-id-7\" type=\"checkbox\" ><label for=\"sk-estimator-id-7\" class=\"sk-toggleable__label sk-toggleable__label-arrow\">HeightFiltration</label><div class=\"sk-toggleable__content\"><pre>HeightFiltration(direction=array([1, 1]), n_jobs=-1)</pre></div></div></div><div class=\"sk-item\"><div class=\"sk-estimator sk-toggleable\"><input class=\"sk-toggleable__control sk-hidden--visually\" id=\"sk-estimator-id-8\" type=\"checkbox\" ><label for=\"sk-estimator-id-8\" class=\"sk-toggleable__label sk-toggleable__label-arrow\">CubicalPersistence</label><div class=\"sk-toggleable__content\"><pre>CubicalPersistence(n_jobs=-1)</pre></div></div></div><div class=\"sk-item\"><div class=\"sk-estimator sk-toggleable\"><input class=\"sk-toggleable__control sk-hidden--visually\" id=\"sk-estimator-id-9\" type=\"checkbox\" ><label for=\"sk-estimator-id-9\" class=\"sk-toggleable__label sk-toggleable__label-arrow\">Scaler</label><div class=\"sk-toggleable__content\"><pre>Scaler(n_jobs=-1)</pre></div></div></div></div></div></div></div></div><div class=\"sk-parallel-item\"><div class=\"sk-item\"><div class=\"sk-label-container\"><div class=\"sk-label sk-toggleable\"><label>pipeline-3</label></div></div><div class=\"sk-serial\"><div class=\"sk-item\"><div class=\"sk-serial\"><div class=\"sk-item\"><div class=\"sk-estimator sk-toggleable\"><input class=\"sk-toggleable__control sk-hidden--visually\" id=\"sk-estimator-id-10\" type=\"checkbox\" ><label for=\"sk-estimator-id-10\" class=\"sk-toggleable__label sk-toggleable__label-arrow\">Binarizer</label><div class=\"sk-toggleable__content\"><pre>Binarizer(n_jobs=-1, threshold=0.4)</pre></div></div></div><div class=\"sk-item\"><div class=\"sk-estimator sk-toggleable\"><input class=\"sk-toggleable__control sk-hidden--visually\" id=\"sk-estimator-id-11\" type=\"checkbox\" ><label for=\"sk-estimator-id-11\" class=\"sk-toggleable__label sk-toggleable__label-arrow\">HeightFiltration</label><div class=\"sk-toggleable__content\"><pre>HeightFiltration(direction=array([0, 1]), n_jobs=-1)</pre></div></div></div><div class=\"sk-item\"><div class=\"sk-estimator sk-toggleable\"><input class=\"sk-toggleable__control sk-hidden--visually\" id=\"sk-estimator-id-12\" type=\"checkbox\" ><label for=\"sk-estimator-id-12\" class=\"sk-toggleable__label sk-toggleable__label-arrow\">CubicalPersistence</label><div class=\"sk-toggleable__content\"><pre>CubicalPersistence(n_jobs=-1)</pre></div></div></div><div class=\"sk-item\"><div class=\"sk-estimator sk-toggleable\"><input class=\"sk-toggleable__control sk-hidden--visually\" id=\"sk-estimator-id-13\" type=\"checkbox\" ><label for=\"sk-estimator-id-13\" class=\"sk-toggleable__label sk-toggleable__label-arrow\">Scaler</label><div class=\"sk-toggleable__content\"><pre>Scaler(n_jobs=-1)</pre></div></div></div></div></div></div></div></div><div class=\"sk-parallel-item\"><div class=\"sk-item\"><div class=\"sk-label-container\"><div class=\"sk-label sk-toggleable\"><label>pipeline-4</label></div></div><div class=\"sk-serial\"><div class=\"sk-item\"><div class=\"sk-serial\"><div class=\"sk-item\"><div class=\"sk-estimator sk-toggleable\"><input class=\"sk-toggleable__control sk-hidden--visually\" id=\"sk-estimator-id-14\" type=\"checkbox\" ><label for=\"sk-estimator-id-14\" class=\"sk-toggleable__label sk-toggleable__label-arrow\">Binarizer</label><div class=\"sk-toggleable__content\"><pre>Binarizer(n_jobs=-1, threshold=0.4)</pre></div></div></div><div class=\"sk-item\"><div class=\"sk-estimator sk-toggleable\"><input class=\"sk-toggleable__control sk-hidden--visually\" id=\"sk-estimator-id-15\" type=\"checkbox\" ><label for=\"sk-estimator-id-15\" class=\"sk-toggleable__label sk-toggleable__label-arrow\">HeightFiltration</label><div class=\"sk-toggleable__content\"><pre>HeightFiltration(direction=array([-1,  1]), n_jobs=-1)</pre></div></div></div><div class=\"sk-item\"><div class=\"sk-estimator sk-toggleable\"><input class=\"sk-toggleable__control sk-hidden--visually\" id=\"sk-estimator-id-16\" type=\"checkbox\" ><label for=\"sk-estimator-id-16\" class=\"sk-toggleable__label sk-toggleable__label-arrow\">CubicalPersistence</label><div class=\"sk-toggleable__content\"><pre>CubicalPersistence(n_jobs=-1)</pre></div></div></div><div class=\"sk-item\"><div class=\"sk-estimator sk-toggleable\"><input class=\"sk-toggleable__control sk-hidden--visually\" id=\"sk-estimator-id-17\" type=\"checkbox\" ><label for=\"sk-estimator-id-17\" class=\"sk-toggleable__label sk-toggleable__label-arrow\">Scaler</label><div class=\"sk-toggleable__content\"><pre>Scaler(n_jobs=-1)</pre></div></div></div></div></div></div></div></div><div class=\"sk-parallel-item\"><div class=\"sk-item\"><div class=\"sk-label-container\"><div class=\"sk-label sk-toggleable\"><label>pipeline-5</label></div></div><div class=\"sk-serial\"><div class=\"sk-item\"><div class=\"sk-serial\"><div class=\"sk-item\"><div class=\"sk-estimator sk-toggleable\"><input class=\"sk-toggleable__control sk-hidden--visually\" id=\"sk-estimator-id-18\" type=\"checkbox\" ><label for=\"sk-estimator-id-18\" class=\"sk-toggleable__label sk-toggleable__label-arrow\">Binarizer</label><div class=\"sk-toggleable__content\"><pre>Binarizer(n_jobs=-1, threshold=0.4)</pre></div></div></div><div class=\"sk-item\"><div class=\"sk-estimator sk-toggleable\"><input class=\"sk-toggleable__control sk-hidden--visually\" id=\"sk-estimator-id-19\" type=\"checkbox\" ><label for=\"sk-estimator-id-19\" class=\"sk-toggleable__label sk-toggleable__label-arrow\">HeightFiltration</label><div class=\"sk-toggleable__content\"><pre>HeightFiltration(direction=array([-1,  0]), n_jobs=-1)</pre></div></div></div><div class=\"sk-item\"><div class=\"sk-estimator sk-toggleable\"><input class=\"sk-toggleable__control sk-hidden--visually\" id=\"sk-estimator-id-20\" type=\"checkbox\" ><label for=\"sk-estimator-id-20\" class=\"sk-toggleable__label sk-toggleable__label-arrow\">CubicalPersistence</label><div class=\"sk-toggleable__content\"><pre>CubicalPersistence(n_jobs=-1)</pre></div></div></div><div class=\"sk-item\"><div class=\"sk-estimator sk-toggleable\"><input class=\"sk-toggleable__control sk-hidden--visually\" id=\"sk-estimator-id-21\" type=\"checkbox\" ><label for=\"sk-estimator-id-21\" class=\"sk-toggleable__label sk-toggleable__label-arrow\">Scaler</label><div class=\"sk-toggleable__content\"><pre>Scaler(n_jobs=-1)</pre></div></div></div></div></div></div></div></div><div class=\"sk-parallel-item\"><div class=\"sk-item\"><div class=\"sk-label-container\"><div class=\"sk-label sk-toggleable\"><label>pipeline-6</label></div></div><div class=\"sk-serial\"><div class=\"sk-item\"><div class=\"sk-serial\"><div class=\"sk-item\"><div class=\"sk-estimator sk-toggleable\"><input class=\"sk-toggleable__control sk-hidden--visually\" id=\"sk-estimator-id-22\" type=\"checkbox\" ><label for=\"sk-estimator-id-22\" class=\"sk-toggleable__label sk-toggleable__label-arrow\">Binarizer</label><div class=\"sk-toggleable__content\"><pre>Binarizer(n_jobs=-1, threshold=0.4)</pre></div></div></div><div class=\"sk-item\"><div class=\"sk-estimator sk-toggleable\"><input class=\"sk-toggleable__control sk-hidden--visually\" id=\"sk-estimator-id-23\" type=\"checkbox\" ><label for=\"sk-estimator-id-23\" class=\"sk-toggleable__label sk-toggleable__label-arrow\">HeightFiltration</label><div class=\"sk-toggleable__content\"><pre>HeightFiltration(direction=array([-1, -1]), n_jobs=-1)</pre></div></div></div><div class=\"sk-item\"><div class=\"sk-estimator sk-toggleable\"><input class=\"sk-toggleable__control sk-hidden--visually\" id=\"sk-estimator-id-24\" type=\"checkbox\" ><label for=\"sk-estimator-id-24\" class=\"sk-toggleable__label sk-toggleable__label-arrow\">CubicalPersistence</label><div class=\"sk-toggleable__content\"><pre>CubicalPersistence(n_jobs=-1)</pre></div></div></div><div class=\"sk-item\"><div class=\"sk-estimator sk-toggleable\"><input class=\"sk-toggleable__control sk-hidden--visually\" id=\"sk-estimator-id-25\" type=\"checkbox\" ><label for=\"sk-estimator-id-25\" class=\"sk-toggleable__label sk-toggleable__label-arrow\">Scaler</label><div class=\"sk-toggleable__content\"><pre>Scaler(n_jobs=-1)</pre></div></div></div></div></div></div></div></div><div class=\"sk-parallel-item\"><div class=\"sk-item\"><div class=\"sk-label-container\"><div class=\"sk-label sk-toggleable\"><label>pipeline-7</label></div></div><div class=\"sk-serial\"><div class=\"sk-item\"><div class=\"sk-serial\"><div class=\"sk-item\"><div class=\"sk-estimator sk-toggleable\"><input class=\"sk-toggleable__control sk-hidden--visually\" id=\"sk-estimator-id-26\" type=\"checkbox\" ><label for=\"sk-estimator-id-26\" class=\"sk-toggleable__label sk-toggleable__label-arrow\">Binarizer</label><div class=\"sk-toggleable__content\"><pre>Binarizer(n_jobs=-1, threshold=0.4)</pre></div></div></div><div class=\"sk-item\"><div class=\"sk-estimator sk-toggleable\"><input class=\"sk-toggleable__control sk-hidden--visually\" id=\"sk-estimator-id-27\" type=\"checkbox\" ><label for=\"sk-estimator-id-27\" class=\"sk-toggleable__label sk-toggleable__label-arrow\">HeightFiltration</label><div class=\"sk-toggleable__content\"><pre>HeightFiltration(direction=array([ 0, -1]), n_jobs=-1)</pre></div></div></div><div class=\"sk-item\"><div class=\"sk-estimator sk-toggleable\"><input class=\"sk-toggleable__control sk-hidden--visually\" id=\"sk-estimator-id-28\" type=\"checkbox\" ><label for=\"sk-estimator-id-28\" class=\"sk-toggleable__label sk-toggleable__label-arrow\">CubicalPersistence</label><div class=\"sk-toggleable__content\"><pre>CubicalPersistence(n_jobs=-1)</pre></div></div></div><div class=\"sk-item\"><div class=\"sk-estimator sk-toggleable\"><input class=\"sk-toggleable__control sk-hidden--visually\" id=\"sk-estimator-id-29\" type=\"checkbox\" ><label for=\"sk-estimator-id-29\" class=\"sk-toggleable__label sk-toggleable__label-arrow\">Scaler</label><div class=\"sk-toggleable__content\"><pre>Scaler(n_jobs=-1)</pre></div></div></div></div></div></div></div></div><div class=\"sk-parallel-item\"><div class=\"sk-item\"><div class=\"sk-label-container\"><div class=\"sk-label sk-toggleable\"><label>pipeline-8</label></div></div><div class=\"sk-serial\"><div class=\"sk-item\"><div class=\"sk-serial\"><div class=\"sk-item\"><div class=\"sk-estimator sk-toggleable\"><input class=\"sk-toggleable__control sk-hidden--visually\" id=\"sk-estimator-id-30\" type=\"checkbox\" ><label for=\"sk-estimator-id-30\" class=\"sk-toggleable__label sk-toggleable__label-arrow\">Binarizer</label><div class=\"sk-toggleable__content\"><pre>Binarizer(n_jobs=-1, threshold=0.4)</pre></div></div></div><div class=\"sk-item\"><div class=\"sk-estimator sk-toggleable\"><input class=\"sk-toggleable__control sk-hidden--visually\" id=\"sk-estimator-id-31\" type=\"checkbox\" ><label for=\"sk-estimator-id-31\" class=\"sk-toggleable__label sk-toggleable__label-arrow\">HeightFiltration</label><div class=\"sk-toggleable__content\"><pre>HeightFiltration(direction=array([ 1, -1]), n_jobs=-1)</pre></div></div></div><div class=\"sk-item\"><div class=\"sk-estimator sk-toggleable\"><input class=\"sk-toggleable__control sk-hidden--visually\" id=\"sk-estimator-id-32\" type=\"checkbox\" ><label for=\"sk-estimator-id-32\" class=\"sk-toggleable__label sk-toggleable__label-arrow\">CubicalPersistence</label><div class=\"sk-toggleable__content\"><pre>CubicalPersistence(n_jobs=-1)</pre></div></div></div><div class=\"sk-item\"><div class=\"sk-estimator sk-toggleable\"><input class=\"sk-toggleable__control sk-hidden--visually\" id=\"sk-estimator-id-33\" type=\"checkbox\" ><label for=\"sk-estimator-id-33\" class=\"sk-toggleable__label sk-toggleable__label-arrow\">Scaler</label><div class=\"sk-toggleable__content\"><pre>Scaler(n_jobs=-1)</pre></div></div></div></div></div></div></div></div><div class=\"sk-parallel-item\"><div class=\"sk-item\"><div class=\"sk-label-container\"><div class=\"sk-label sk-toggleable\"><label>pipeline-9</label></div></div><div class=\"sk-serial\"><div class=\"sk-item\"><div class=\"sk-serial\"><div class=\"sk-item\"><div class=\"sk-estimator sk-toggleable\"><input class=\"sk-toggleable__control sk-hidden--visually\" id=\"sk-estimator-id-34\" type=\"checkbox\" ><label for=\"sk-estimator-id-34\" class=\"sk-toggleable__label sk-toggleable__label-arrow\">Binarizer</label><div class=\"sk-toggleable__content\"><pre>Binarizer(n_jobs=-1, threshold=0.4)</pre></div></div></div><div class=\"sk-item\"><div class=\"sk-estimator sk-toggleable\"><input class=\"sk-toggleable__control sk-hidden--visually\" id=\"sk-estimator-id-35\" type=\"checkbox\" ><label for=\"sk-estimator-id-35\" class=\"sk-toggleable__label sk-toggleable__label-arrow\">RadialFiltration</label><div class=\"sk-toggleable__content\"><pre>RadialFiltration(center=array([13,  6]), n_jobs=-1)</pre></div></div></div><div class=\"sk-item\"><div class=\"sk-estimator sk-toggleable\"><input class=\"sk-toggleable__control sk-hidden--visually\" id=\"sk-estimator-id-36\" type=\"checkbox\" ><label for=\"sk-estimator-id-36\" class=\"sk-toggleable__label sk-toggleable__label-arrow\">CubicalPersistence</label><div class=\"sk-toggleable__content\"><pre>CubicalPersistence(n_jobs=-1)</pre></div></div></div><div class=\"sk-item\"><div class=\"sk-estimator sk-toggleable\"><input class=\"sk-toggleable__control sk-hidden--visually\" id=\"sk-estimator-id-37\" type=\"checkbox\" ><label for=\"sk-estimator-id-37\" class=\"sk-toggleable__label sk-toggleable__label-arrow\">Scaler</label><div class=\"sk-toggleable__content\"><pre>Scaler(n_jobs=-1)</pre></div></div></div></div></div></div></div></div><div class=\"sk-parallel-item\"><div class=\"sk-item\"><div class=\"sk-label-container\"><div class=\"sk-label sk-toggleable\"><label>pipeline-10</label></div></div><div class=\"sk-serial\"><div class=\"sk-item\"><div class=\"sk-serial\"><div class=\"sk-item\"><div class=\"sk-estimator sk-toggleable\"><input class=\"sk-toggleable__control sk-hidden--visually\" id=\"sk-estimator-id-38\" type=\"checkbox\" ><label for=\"sk-estimator-id-38\" class=\"sk-toggleable__label sk-toggleable__label-arrow\">Binarizer</label><div class=\"sk-toggleable__content\"><pre>Binarizer(n_jobs=-1, threshold=0.4)</pre></div></div></div><div class=\"sk-item\"><div class=\"sk-estimator sk-toggleable\"><input class=\"sk-toggleable__control sk-hidden--visually\" id=\"sk-estimator-id-39\" type=\"checkbox\" ><label for=\"sk-estimator-id-39\" class=\"sk-toggleable__label sk-toggleable__label-arrow\">RadialFiltration</label><div class=\"sk-toggleable__content\"><pre>RadialFiltration(center=array([ 6, 13]), n_jobs=-1)</pre></div></div></div><div class=\"sk-item\"><div class=\"sk-estimator sk-toggleable\"><input class=\"sk-toggleable__control sk-hidden--visually\" id=\"sk-estimator-id-40\" type=\"checkbox\" ><label for=\"sk-estimator-id-40\" class=\"sk-toggleable__label sk-toggleable__label-arrow\">CubicalPersistence</label><div class=\"sk-toggleable__content\"><pre>CubicalPersistence(n_jobs=-1)</pre></div></div></div><div class=\"sk-item\"><div class=\"sk-estimator sk-toggleable\"><input class=\"sk-toggleable__control sk-hidden--visually\" id=\"sk-estimator-id-41\" type=\"checkbox\" ><label for=\"sk-estimator-id-41\" class=\"sk-toggleable__label sk-toggleable__label-arrow\">Scaler</label><div class=\"sk-toggleable__content\"><pre>Scaler(n_jobs=-1)</pre></div></div></div></div></div></div></div></div><div class=\"sk-parallel-item\"><div class=\"sk-item\"><div class=\"sk-label-container\"><div class=\"sk-label sk-toggleable\"><label>pipeline-11</label></div></div><div class=\"sk-serial\"><div class=\"sk-item\"><div class=\"sk-serial\"><div class=\"sk-item\"><div class=\"sk-estimator sk-toggleable\"><input class=\"sk-toggleable__control sk-hidden--visually\" id=\"sk-estimator-id-42\" type=\"checkbox\" ><label for=\"sk-estimator-id-42\" class=\"sk-toggleable__label sk-toggleable__label-arrow\">Binarizer</label><div class=\"sk-toggleable__content\"><pre>Binarizer(n_jobs=-1, threshold=0.4)</pre></div></div></div><div class=\"sk-item\"><div class=\"sk-estimator sk-toggleable\"><input class=\"sk-toggleable__control sk-hidden--visually\" id=\"sk-estimator-id-43\" type=\"checkbox\" ><label for=\"sk-estimator-id-43\" class=\"sk-toggleable__label sk-toggleable__label-arrow\">RadialFiltration</label><div class=\"sk-toggleable__content\"><pre>RadialFiltration(center=array([13, 13]), n_jobs=-1)</pre></div></div></div><div class=\"sk-item\"><div class=\"sk-estimator sk-toggleable\"><input class=\"sk-toggleable__control sk-hidden--visually\" id=\"sk-estimator-id-44\" type=\"checkbox\" ><label for=\"sk-estimator-id-44\" class=\"sk-toggleable__label sk-toggleable__label-arrow\">CubicalPersistence</label><div class=\"sk-toggleable__content\"><pre>CubicalPersistence(n_jobs=-1)</pre></div></div></div><div class=\"sk-item\"><div class=\"sk-estimator sk-toggleable\"><input class=\"sk-toggleable__control sk-hidden--visually\" id=\"sk-estimator-id-45\" type=\"checkbox\" ><label for=\"sk-estimator-id-45\" class=\"sk-toggleable__label sk-toggleable__label-arrow\">Scaler</label><div class=\"sk-toggleable__content\"><pre>Scaler(n_jobs=-1)</pre></div></div></div></div></div></div></div></div><div class=\"sk-parallel-item\"><div class=\"sk-item\"><div class=\"sk-label-container\"><div class=\"sk-label sk-toggleable\"><label>pipeline-12</label></div></div><div class=\"sk-serial\"><div class=\"sk-item\"><div class=\"sk-serial\"><div class=\"sk-item\"><div class=\"sk-estimator sk-toggleable\"><input class=\"sk-toggleable__control sk-hidden--visually\" id=\"sk-estimator-id-46\" type=\"checkbox\" ><label for=\"sk-estimator-id-46\" class=\"sk-toggleable__label sk-toggleable__label-arrow\">Binarizer</label><div class=\"sk-toggleable__content\"><pre>Binarizer(n_jobs=-1, threshold=0.4)</pre></div></div></div><div class=\"sk-item\"><div class=\"sk-estimator sk-toggleable\"><input class=\"sk-toggleable__control sk-hidden--visually\" id=\"sk-estimator-id-47\" type=\"checkbox\" ><label for=\"sk-estimator-id-47\" class=\"sk-toggleable__label sk-toggleable__label-arrow\">RadialFiltration</label><div class=\"sk-toggleable__content\"><pre>RadialFiltration(center=array([20, 13]), n_jobs=-1)</pre></div></div></div><div class=\"sk-item\"><div class=\"sk-estimator sk-toggleable\"><input class=\"sk-toggleable__control sk-hidden--visually\" id=\"sk-estimator-id-48\" type=\"checkbox\" ><label for=\"sk-estimator-id-48\" class=\"sk-toggleable__label sk-toggleable__label-arrow\">CubicalPersistence</label><div class=\"sk-toggleable__content\"><pre>CubicalPersistence(n_jobs=-1)</pre></div></div></div><div class=\"sk-item\"><div class=\"sk-estimator sk-toggleable\"><input class=\"sk-toggleable__control sk-hidden--visually\" id=\"sk-estimator-id-49\" type=\"checkbox\" ><label for=\"sk-estimator-id-49\" class=\"sk-toggleable__label sk-toggleable__label-arrow\">Scaler</label><div class=\"sk-toggleable__content\"><pre>Scaler(n_jobs=-1)</pre></div></div></div></div></div></div></div></div><div class=\"sk-parallel-item\"><div class=\"sk-item\"><div class=\"sk-label-container\"><div class=\"sk-label sk-toggleable\"><label>pipeline-13</label></div></div><div class=\"sk-serial\"><div class=\"sk-item\"><div class=\"sk-serial\"><div class=\"sk-item\"><div class=\"sk-estimator sk-toggleable\"><input class=\"sk-toggleable__control sk-hidden--visually\" id=\"sk-estimator-id-50\" type=\"checkbox\" ><label for=\"sk-estimator-id-50\" class=\"sk-toggleable__label sk-toggleable__label-arrow\">Binarizer</label><div class=\"sk-toggleable__content\"><pre>Binarizer(n_jobs=-1, threshold=0.4)</pre></div></div></div><div class=\"sk-item\"><div class=\"sk-estimator sk-toggleable\"><input class=\"sk-toggleable__control sk-hidden--visually\" id=\"sk-estimator-id-51\" type=\"checkbox\" ><label for=\"sk-estimator-id-51\" class=\"sk-toggleable__label sk-toggleable__label-arrow\">RadialFiltration</label><div class=\"sk-toggleable__content\"><pre>RadialFiltration(center=array([13, 20]), n_jobs=-1)</pre></div></div></div><div class=\"sk-item\"><div class=\"sk-estimator sk-toggleable\"><input class=\"sk-toggleable__control sk-hidden--visually\" id=\"sk-estimator-id-52\" type=\"checkbox\" ><label for=\"sk-estimator-id-52\" class=\"sk-toggleable__label sk-toggleable__label-arrow\">CubicalPersistence</label><div class=\"sk-toggleable__content\"><pre>CubicalPersistence(n_jobs=-1)</pre></div></div></div><div class=\"sk-item\"><div class=\"sk-estimator sk-toggleable\"><input class=\"sk-toggleable__control sk-hidden--visually\" id=\"sk-estimator-id-53\" type=\"checkbox\" ><label for=\"sk-estimator-id-53\" class=\"sk-toggleable__label sk-toggleable__label-arrow\">Scaler</label><div class=\"sk-toggleable__content\"><pre>Scaler(n_jobs=-1)</pre></div></div></div></div></div></div></div></div><div class=\"sk-parallel-item\"><div class=\"sk-item\"><div class=\"sk-label-container\"><div class=\"sk-label sk-toggleable\"><label>pipeline-14</label></div></div><div class=\"sk-serial\"><div class=\"sk-item\"><div class=\"sk-serial\"><div class=\"sk-item\"><div class=\"sk-estimator sk-toggleable\"><input class=\"sk-toggleable__control sk-hidden--visually\" id=\"sk-estimator-id-54\" type=\"checkbox\" ><label for=\"sk-estimator-id-54\" class=\"sk-toggleable__label sk-toggleable__label-arrow\">Binarizer</label><div class=\"sk-toggleable__content\"><pre>Binarizer(n_jobs=-1, threshold=0.4)</pre></div></div></div><div class=\"sk-item\"><div class=\"sk-estimator sk-toggleable\"><input class=\"sk-toggleable__control sk-hidden--visually\" id=\"sk-estimator-id-55\" type=\"checkbox\" ><label for=\"sk-estimator-id-55\" class=\"sk-toggleable__label sk-toggleable__label-arrow\">RadialFiltration</label><div class=\"sk-toggleable__content\"><pre>RadialFiltration(center=array([6, 6]), n_jobs=-1)</pre></div></div></div><div class=\"sk-item\"><div class=\"sk-estimator sk-toggleable\"><input class=\"sk-toggleable__control sk-hidden--visually\" id=\"sk-estimator-id-56\" type=\"checkbox\" ><label for=\"sk-estimator-id-56\" class=\"sk-toggleable__label sk-toggleable__label-arrow\">CubicalPersistence</label><div class=\"sk-toggleable__content\"><pre>CubicalPersistence(n_jobs=-1)</pre></div></div></div><div class=\"sk-item\"><div class=\"sk-estimator sk-toggleable\"><input class=\"sk-toggleable__control sk-hidden--visually\" id=\"sk-estimator-id-57\" type=\"checkbox\" ><label for=\"sk-estimator-id-57\" class=\"sk-toggleable__label sk-toggleable__label-arrow\">Scaler</label><div class=\"sk-toggleable__content\"><pre>Scaler(n_jobs=-1)</pre></div></div></div></div></div></div></div></div><div class=\"sk-parallel-item\"><div class=\"sk-item\"><div class=\"sk-label-container\"><div class=\"sk-label sk-toggleable\"><label>pipeline-15</label></div></div><div class=\"sk-serial\"><div class=\"sk-item\"><div class=\"sk-serial\"><div class=\"sk-item\"><div class=\"sk-estimator sk-toggleable\"><input class=\"sk-toggleable__control sk-hidden--visually\" id=\"sk-estimator-id-58\" type=\"checkbox\" ><label for=\"sk-estimator-id-58\" class=\"sk-toggleable__label sk-toggleable__label-arrow\">Binarizer</label><div class=\"sk-toggleable__content\"><pre>Binarizer(n_jobs=-1, threshold=0.4)</pre></div></div></div><div class=\"sk-item\"><div class=\"sk-estimator sk-toggleable\"><input class=\"sk-toggleable__control sk-hidden--visually\" id=\"sk-estimator-id-59\" type=\"checkbox\" ><label for=\"sk-estimator-id-59\" class=\"sk-toggleable__label sk-toggleable__label-arrow\">RadialFiltration</label><div class=\"sk-toggleable__content\"><pre>RadialFiltration(center=array([ 6, 20]), n_jobs=-1)</pre></div></div></div><div class=\"sk-item\"><div class=\"sk-estimator sk-toggleable\"><input class=\"sk-toggleable__control sk-hidden--visually\" id=\"sk-estimator-id-60\" type=\"checkbox\" ><label for=\"sk-estimator-id-60\" class=\"sk-toggleable__label sk-toggleable__label-arrow\">CubicalPersistence</label><div class=\"sk-toggleable__content\"><pre>CubicalPersistence(n_jobs=-1)</pre></div></div></div><div class=\"sk-item\"><div class=\"sk-estimator sk-toggleable\"><input class=\"sk-toggleable__control sk-hidden--visually\" id=\"sk-estimator-id-61\" type=\"checkbox\" ><label for=\"sk-estimator-id-61\" class=\"sk-toggleable__label sk-toggleable__label-arrow\">Scaler</label><div class=\"sk-toggleable__content\"><pre>Scaler(n_jobs=-1)</pre></div></div></div></div></div></div></div></div><div class=\"sk-parallel-item\"><div class=\"sk-item\"><div class=\"sk-label-container\"><div class=\"sk-label sk-toggleable\"><label>pipeline-16</label></div></div><div class=\"sk-serial\"><div class=\"sk-item\"><div class=\"sk-serial\"><div class=\"sk-item\"><div class=\"sk-estimator sk-toggleable\"><input class=\"sk-toggleable__control sk-hidden--visually\" id=\"sk-estimator-id-62\" type=\"checkbox\" ><label for=\"sk-estimator-id-62\" class=\"sk-toggleable__label sk-toggleable__label-arrow\">Binarizer</label><div class=\"sk-toggleable__content\"><pre>Binarizer(n_jobs=-1, threshold=0.4)</pre></div></div></div><div class=\"sk-item\"><div class=\"sk-estimator sk-toggleable\"><input class=\"sk-toggleable__control sk-hidden--visually\" id=\"sk-estimator-id-63\" type=\"checkbox\" ><label for=\"sk-estimator-id-63\" class=\"sk-toggleable__label sk-toggleable__label-arrow\">RadialFiltration</label><div class=\"sk-toggleable__content\"><pre>RadialFiltration(center=array([20,  6]), n_jobs=-1)</pre></div></div></div><div class=\"sk-item\"><div class=\"sk-estimator sk-toggleable\"><input class=\"sk-toggleable__control sk-hidden--visually\" id=\"sk-estimator-id-64\" type=\"checkbox\" ><label for=\"sk-estimator-id-64\" class=\"sk-toggleable__label sk-toggleable__label-arrow\">CubicalPersistence</label><div class=\"sk-toggleable__content\"><pre>CubicalPersistence(n_jobs=-1)</pre></div></div></div><div class=\"sk-item\"><div class=\"sk-estimator sk-toggleable\"><input class=\"sk-toggleable__control sk-hidden--visually\" id=\"sk-estimator-id-65\" type=\"checkbox\" ><label for=\"sk-estimator-id-65\" class=\"sk-toggleable__label sk-toggleable__label-arrow\">Scaler</label><div class=\"sk-toggleable__content\"><pre>Scaler(n_jobs=-1)</pre></div></div></div></div></div></div></div></div><div class=\"sk-parallel-item\"><div class=\"sk-item\"><div class=\"sk-label-container\"><div class=\"sk-label sk-toggleable\"><label>pipeline-17</label></div></div><div class=\"sk-serial\"><div class=\"sk-item\"><div class=\"sk-serial\"><div class=\"sk-item\"><div class=\"sk-estimator sk-toggleable\"><input class=\"sk-toggleable__control sk-hidden--visually\" id=\"sk-estimator-id-66\" type=\"checkbox\" ><label for=\"sk-estimator-id-66\" class=\"sk-toggleable__label sk-toggleable__label-arrow\">Binarizer</label><div class=\"sk-toggleable__content\"><pre>Binarizer(n_jobs=-1, threshold=0.4)</pre></div></div></div><div class=\"sk-item\"><div class=\"sk-estimator sk-toggleable\"><input class=\"sk-toggleable__control sk-hidden--visually\" id=\"sk-estimator-id-67\" type=\"checkbox\" ><label for=\"sk-estimator-id-67\" class=\"sk-toggleable__label sk-toggleable__label-arrow\">RadialFiltration</label><div class=\"sk-toggleable__content\"><pre>RadialFiltration(center=array([20, 20]), n_jobs=-1)</pre></div></div></div><div class=\"sk-item\"><div class=\"sk-estimator sk-toggleable\"><input class=\"sk-toggleable__control sk-hidden--visually\" id=\"sk-estimator-id-68\" type=\"checkbox\" ><label for=\"sk-estimator-id-68\" class=\"sk-toggleable__label sk-toggleable__label-arrow\">CubicalPersistence</label><div class=\"sk-toggleable__content\"><pre>CubicalPersistence(n_jobs=-1)</pre></div></div></div><div class=\"sk-item\"><div class=\"sk-estimator sk-toggleable\"><input class=\"sk-toggleable__control sk-hidden--visually\" id=\"sk-estimator-id-69\" type=\"checkbox\" ><label for=\"sk-estimator-id-69\" class=\"sk-toggleable__label sk-toggleable__label-arrow\">Scaler</label><div class=\"sk-toggleable__content\"><pre>Scaler(n_jobs=-1)</pre></div></div></div></div></div></div></div></div></div></div></div></div>"
      ],
      "text/plain": [
       "FeatureUnion(n_jobs=-1,\n",
       "             transformer_list=[('pipeline-1',\n",
       "                                Pipeline(steps=[('binarizer',\n",
       "                                                 Binarizer(n_jobs=-1,\n",
       "                                                           threshold=0.4)),\n",
       "                                                ('heightfiltration',\n",
       "                                                 HeightFiltration(direction=array([1, 0]),\n",
       "                                                                  n_jobs=-1)),\n",
       "                                                ('cubicalpersistence',\n",
       "                                                 CubicalPersistence(n_jobs=-1)),\n",
       "                                                ('scaler',\n",
       "                                                 Scaler(n_jobs=-1))])),\n",
       "                               ('pipeline-2',\n",
       "                                Pipeline(steps=[('binarizer',\n",
       "                                                 Binarizer(n_jobs=-1,\n",
       "                                                           threshold=...\n",
       "                                                 RadialFiltration(center=array([20,  6]),\n",
       "                                                                  n_jobs=-1)),\n",
       "                                                ('cubicalpersistence',\n",
       "                                                 CubicalPersistence(n_jobs=-1)),\n",
       "                                                ('scaler',\n",
       "                                                 Scaler(n_jobs=-1))])),\n",
       "                               ('pipeline-17',\n",
       "                                Pipeline(steps=[('binarizer',\n",
       "                                                 Binarizer(n_jobs=-1,\n",
       "                                                           threshold=0.4)),\n",
       "                                                ('radialfiltration',\n",
       "                                                 RadialFiltration(center=array([20, 20]),\n",
       "                                                                  n_jobs=-1)),\n",
       "                                                ('cubicalpersistence',\n",
       "                                                 CubicalPersistence(n_jobs=-1)),\n",
       "                                                ('scaler',\n",
       "                                                 Scaler(n_jobs=-1))]))])"
      ]
     },
     "execution_count": 6,
     "metadata": {},
     "output_type": "execute_result"
    }
   ],
   "source": [
    "from sklearn import set_config\n",
    "set_config(display='diagram')  \n",
    "\n",
    "tda_union"
   ]
  },
  {
   "cell_type": "markdown",
   "id": "e523143e",
   "metadata": {},
   "source": [
    "### Persistent homology"
   ]
  },
  {
   "cell_type": "code",
   "execution_count": 26,
   "id": "bbc4e161",
   "metadata": {},
   "outputs": [],
   "source": [
    "from sklearn.pipeline import make_pipeline, make_union\n",
    "from gtda.diagrams import PersistenceEntropy\n",
    "from gtda.images import HeightFiltration\n",
    "\n",
    "direction_list = [[1, 0], [1, 1], [0, 1],  [-1, 0], [-1, -1]]\n",
    "\n",
    "center_list = [\n",
    "    [13, 6],\n",
    "    [6, 13],\n",
    "    [20, 13],\n",
    "    [13, 20],\n",
    "    [6, 6],\n",
    "    [6, 20],\n",
    "    \n",
    "]\n",
    "\n",
    "# Creating a list of all filtration transformer, we will be applying\n",
    "filtration_list = (\n",
    "    [\n",
    "        HeightFiltration(direction=np.array(direction), n_jobs=-1)\n",
    "        for direction in direction_list\n",
    "    ]\n",
    "    + [RadialFiltration(center=np.array(center), n_jobs=-1) for center in center_list]\n",
    ")\n",
    "\n",
    "# Creating the diagram generation pipeline\n",
    "diagram_steps = [\n",
    "    [\n",
    "        Binarizer(threshold=0.4, n_jobs=-1),\n",
    "        filtration,\n",
    "        CubicalPersistence(n_jobs=-1),\n",
    "        Scaler(n_jobs=-1),\n",
    "    ]\n",
    "    for filtration in filtration_list\n",
    "]\n",
    "\n",
    "# Listing all metrics we want to use to extract diagram amplitudes\n",
    "metric_list = [\n",
    "    {\"metric\": \"bottleneck\", \"metric_params\": {}},\n",
    "    {\"metric\": \"wasserstein\", \"metric_params\": {\"p\": 1}},\n",
    "    #{\"metric\": \"wasserstein\", \"metric_params\": {\"p\": 2}},\n",
    "    {\"metric\": \"landscape\", \"metric_params\": {\"p\": 1, \"n_layers\": 1, \"n_bins\": 100}},\n",
    "    {\"metric\": \"landscape\", \"metric_params\": {\"p\": 1, \"n_layers\": 2, \"n_bins\": 100}},\n",
    "    #{\"metric\": \"landscape\", \"metric_params\": {\"p\": 2, \"n_layers\": 1, \"n_bins\": 100}},\n",
    "    #{\"metric\": \"landscape\", \"metric_params\": {\"p\": 2, \"n_layers\": 2, \"n_bins\": 100}},\n",
    "    {\"metric\": \"betti\", \"metric_params\": {\"p\": 1, \"n_bins\": 100}},\n",
    "    #{\"metric\": \"betti\", \"metric_params\": {\"p\": 2, \"n_bins\": 100}},\n",
    "    {\"metric\": \"heat\", \"metric_params\": {\"p\": 1, \"sigma\": 1.6, \"n_bins\": 100}},\n",
    "    #{\"metric\": \"heat\", \"metric_params\": {\"p\": 1, \"sigma\": 3.2, \"n_bins\": 100}},\n",
    "    #{\"metric\": \"heat\", \"metric_params\": {\"p\": 2, \"sigma\": 1.6, \"n_bins\": 100}},\n",
    "    {\"metric\": \"heat\", \"metric_params\": {\"p\": 2, \"sigma\": 3.2, \"n_bins\": 100}},\n",
    "]\n",
    "\n",
    "#\n",
    "feature_union = make_union(\n",
    "    *[PersistenceEntropy(nan_fill_value=-1)]\n",
    "    + [Amplitude(**metric, n_jobs=-1) for metric in metric_list]\n",
    ")\n",
    "\n",
    "tda_union_p = make_union(\n",
    "    *[make_pipeline(*diagram_step, feature_union) for diagram_step in diagram_steps],\n",
    "    n_jobs=-1\n",
    ")"
   ]
  },
  {
   "cell_type": "markdown",
   "id": "4a850501",
   "metadata": {},
   "source": [
    "### Function for extracting features"
   ]
  },
  {
   "cell_type": "code",
   "execution_count": 28,
   "id": "cbee7f41",
   "metadata": {},
   "outputs": [],
   "source": [
    "def extract_features(X_train):\n",
    "    diagrams_basic = tda_union.fit_transform(X_train)\n",
    "    diagrams_basic.shape\n",
    "    Arr = diagrams_basic[1]\n",
    "    a1=Arr[Arr[:,2]==0].shape[0]; a2=Arr[Arr[:,2]==1].shape[0]#; a3=Arr[Arr[:,2]==2].shape[0] \n",
    "\n",
    "    Arr_dim_0 = diagrams_basic[:,0:a1,0:2]; Arr_dim_1 = diagrams_basic[:,a1:a1+a2,0:2]#; Arr_dim_2 = diagrams_basic[:,a1+a2:a1+a2+a3,0:2] \n",
    "    X_features = tda_union_p.fit_transform(X_train)\n",
    "    FN = 5\n",
    "    my_list = [Arr_dim_0, Arr_dim_1]#, Arr_dim_2]\n",
    "    # compute feature matrix\n",
    "    for i in range(0,2):\n",
    "        FeatureMatrix, TotalNumComb, CombList = Ff.F_CCoordinates(my_list[i], FN)\n",
    "        X_features = np.concatenate((X_features, FeatureMatrix[-10]),axis=1)\n",
    "    print(X_features.shape)\n",
    "        \n",
    "    return X_features\n",
    "\n",
    "    "
   ]
  },
  {
   "cell_type": "markdown",
   "id": "ae154a85",
   "metadata": {},
   "source": [
    "## Extraction of the features on the train set"
   ]
  },
  {
   "cell_type": "code",
   "execution_count": 29,
   "id": "e2e43729",
   "metadata": {
    "scrolled": true
   },
   "outputs": [
    {
     "name": "stdout",
     "output_type": "stream",
     "text": [
      "(250, 182)\n"
     ]
    },
    {
     "data": {
      "text/plain": [
       "array([[-1.00000000e+00, -1.00000000e+00,  0.00000000e+00, ...,\n",
       "         2.14474790e-04,  3.75651882e-09,  1.13729755e-12],\n",
       "       [ 0.00000000e+00,  9.94030211e-01,  5.26315789e-02, ...,\n",
       "         3.07035315e+00,  3.48361852e+01,  1.30297684e+00],\n",
       "       [-1.00000000e+00, -1.00000000e+00,  0.00000000e+00, ...,\n",
       "         1.00919433e-01,  4.46238118e-03,  1.31820797e-04],\n",
       "       ...,\n",
       "       [ 0.00000000e+00, -1.00000000e+00,  4.73684211e-01, ...,\n",
       "         7.45178803e-01,  1.77228436e-02,  3.04306211e-02],\n",
       "       [ 9.96791632e-01, -1.00000000e+00,  4.21052632e-01, ...,\n",
       "         5.87513340e-01,  4.18762058e-02,  1.04268241e-02],\n",
       "       [ 0.00000000e+00,  0.00000000e+00,  3.15789474e-01, ...,\n",
       "         2.67886834e+00,  1.64330803e+01,  8.98562312e-01]])"
      ]
     },
     "execution_count": 29,
     "metadata": {},
     "output_type": "execute_result"
    }
   ],
   "source": [
    "train_features = extract_features(X_train)\n",
    "train_features"
   ]
  },
  {
   "cell_type": "markdown",
   "id": "737f712f",
   "metadata": {},
   "source": [
    "## Extraction of the features on the test set"
   ]
  },
  {
   "cell_type": "code",
   "execution_count": 30,
   "id": "b0cd38a8",
   "metadata": {
    "scrolled": true
   },
   "outputs": [
    {
     "name": "stdout",
     "output_type": "stream",
     "text": [
      "(60, 182)\n"
     ]
    },
    {
     "data": {
      "text/plain": [
       "array([[-1.00000000e+00,  0.00000000e+00,  0.00000000e+00, ...,\n",
       "         3.17720822e+00,  1.93400492e+01,  5.98187541e-01],\n",
       "       [ 0.00000000e+00, -1.00000000e+00,  2.85714286e-01, ...,\n",
       "         9.52290453e-01,  1.48546119e-02,  1.44980104e-02],\n",
       "       [-1.00000000e+00,  1.95792929e+00,  0.00000000e+00, ...,\n",
       "         1.28802469e+01,  1.32527658e+02,  1.43200952e+01],\n",
       "       ...,\n",
       "       [ 8.96038233e-01, -1.00000000e+00,  5.23809524e-01, ...,\n",
       "         1.87942830e+00,  1.19582698e-01,  9.60625593e-02],\n",
       "       [ 9.42683189e-01, -1.00000000e+00,  7.61904762e-01, ...,\n",
       "         2.18709684e+00,  4.23667391e-01,  2.48469756e-01],\n",
       "       [ 0.00000000e+00,  0.00000000e+00,  4.76190476e-02, ...,\n",
       "         5.62425352e+00,  3.13546823e+01,  3.21589966e+00]])"
      ]
     },
     "execution_count": 30,
     "metadata": {},
     "output_type": "execute_result"
    }
   ],
   "source": [
    "test_features = extract_features(X_test)\n",
    "test_features"
   ]
  },
  {
   "cell_type": "markdown",
   "id": "3210cb46",
   "metadata": {},
   "source": [
    "## Choice of the best parameter "
   ]
  },
  {
   "cell_type": "code",
   "execution_count": 35,
   "id": "70b7c6b0",
   "metadata": {
    "scrolled": true
   },
   "outputs": [
    {
     "name": "stdout",
     "output_type": "stream",
     "text": [
      "0.8666666666666667\n",
      "0.8666666666666667\n",
      "0.8833333333333333\n",
      "0.8833333333333333\n",
      "0.9\n",
      "0.8833333333333333\n",
      "0.9\n",
      "0.8666666666666667\n",
      "0.8833333333333333\n",
      "0.9\n",
      "0.9\n",
      "0.8666666666666667\n",
      "0.8666666666666667\n",
      "0.8666666666666667\n",
      "0.8666666666666667\n",
      "0.85\n",
      "0.8666666666666667\n",
      "0.8833333333333333\n",
      "0.8833333333333333\n",
      "0.85\n",
      "0.8833333333333333\n",
      "0.8666666666666667\n",
      "0.8666666666666667\n",
      "0.8833333333333333\n",
      "0.8833333333333333\n",
      "0.8666666666666667\n",
      "0.8833333333333333\n",
      "0.9\n",
      "0.8833333333333333\n",
      "0.8833333333333333\n",
      "0.8666666666666667\n",
      "0.8666666666666667\n",
      "0.8666666666666667\n",
      "0.8666666666666667\n",
      "0.8666666666666667\n",
      "0.8666666666666667\n",
      "0.8833333333333333\n",
      "0.8666666666666667\n",
      "0.8833333333333333\n",
      "0.8833333333333333\n",
      "0.9166666666666666\n",
      "0.85\n",
      "0.8666666666666667\n",
      "0.8666666666666667\n",
      "0.85\n",
      "0.85\n",
      "0.8666666666666667\n",
      "0.8666666666666667\n",
      "0.8666666666666667\n",
      "0.85\n",
      "0.8833333333333333\n",
      "0.8833333333333333\n",
      "0.8833333333333333\n",
      "0.85\n",
      "0.8833333333333333\n",
      "0.8666666666666667\n",
      "0.8833333333333333\n",
      "0.8833333333333333\n",
      "0.8666666666666667\n",
      "0.8666666666666667\n",
      "0.8833333333333333\n",
      "0.8666666666666667\n",
      "0.8833333333333333\n",
      "0.8666666666666667\n",
      "0.85\n",
      "0.8666666666666667\n",
      "0.9\n",
      "0.8666666666666667\n",
      "0.8666666666666667\n",
      "0.8666666666666667\n",
      "0.8666666666666667\n",
      "0.8666666666666667\n",
      "0.8333333333333334\n",
      "0.8666666666666667\n",
      "0.85\n",
      "0.85\n",
      "0.8833333333333333\n",
      "0.8833333333333333\n",
      "0.8666666666666667\n",
      "0.85\n",
      "0.8833333333333333\n",
      "0.8833333333333333\n",
      "0.8666666666666667\n",
      "0.8666666666666667\n",
      "0.8666666666666667\n",
      "0.8666666666666667\n",
      "0.8666666666666667\n",
      "0.8666666666666667\n",
      "0.8833333333333333\n",
      "0.8833333333333333\n",
      "0.8833333333333333\n",
      "0.8666666666666667\n",
      "0.8833333333333333\n",
      "0.9\n",
      "0.8833333333333333\n",
      "0.8666666666666667\n",
      "0.8666666666666667\n",
      "0.8666666666666667\n",
      "0.8666666666666667\n",
      "0.8833333333333333\n",
      "40\n"
     ]
    }
   ],
   "source": [
    "from sklearn.ensemble import RandomForestClassifier\n",
    "maxi = 0\n",
    "imax = 0\n",
    "for i in range(100):\n",
    "    rf = RandomForestClassifier(random_state = i)\n",
    "    rf.fit(train_features, y_train)\n",
    "    score = rf.score(test_features, y_test)\n",
    "    if score >= maxi:\n",
    "        maxi = score\n",
    "        imax = i\n",
    "    #X_test_tda = tda_union.transform(X_test)\n",
    "    print(score)\n",
    "print(imax)"
   ]
  },
  {
   "cell_type": "markdown",
   "id": "a7f95662",
   "metadata": {},
   "source": [
    "## Train and test with the optimal parameter found "
   ]
  },
  {
   "cell_type": "code",
   "execution_count": 38,
   "id": "a917e4d9",
   "metadata": {},
   "outputs": [
    {
     "name": "stdout",
     "output_type": "stream",
     "text": [
      "0.9166666666666666\n"
     ]
    },
    {
     "data": {
      "text/plain": [
       "<sklearn.metrics._plot.confusion_matrix.ConfusionMatrixDisplay at 0x7f1c1de33790>"
      ]
     },
     "execution_count": 38,
     "metadata": {},
     "output_type": "execute_result"
    },
    {
     "data": {
      "image/png": "[encoded data removed]",
      "text/plain": [
       "<Figure size 432x288 with 2 Axes>"
      ]
     },
     "metadata": {
      "needs_background": "light"
     },
     "output_type": "display_data"
    }
   ],
   "source": [
    "from sklearn.ensemble import RandomForestClassifier\n",
    "from sklearn.metrics import confusion_matrix, ConfusionMatrixDisplay\n",
    "\n",
    "# Train the Random Forest Classifier\n",
    "rf = RandomForestClassifier(random_state = 40)\n",
    "rf.fit(train_features, y_train)\n",
    "\n",
    "print(rf.score(test_features, y_test))\n",
    "\n",
    "# Predict the labels for the test set\n",
    "predictions = rf.predict(test_features)\n",
    "\n",
    "# Calculate the confusion matrix\n",
    "cm = confusion_matrix(y_test, predictions)\n",
    "\n",
    "# Optionally, display the confusion matrix\n",
    "disp = ConfusionMatrixDisplay(confusion_matrix=cm)\n",
    "disp.plot()"
   ]
  },
  {
   "cell_type": "markdown",
   "id": "72602072",
   "metadata": {},
   "source": [
    "### Output Summary\n",
    "\n",
    "The output value of `0.9166666666666666` represents the accuracy of the Random Forest Classifier on the testing dataset, indicating that approximately **91.67%** of the predictions were correct.\n",
    "\n",
    "\n",
    "By the confusion matrix We can observe that our model is predicting each class well.\n",
    "\n"
   ]
  },
  {
   "cell_type": "markdown",
   "id": "121f626e",
   "metadata": {},
   "source": [
    "### Conclusion\n",
    "\n",
    "The objective of this project was to extract topological features from 3D images and train a model capable of classifying each handwritten digit.\n",
    "\n",
    "Our results indicate that the 182 features we successfully extracted significantly enhance our ability to classify the data effectively."
   ]
  },
  {
   "cell_type": "code",
   "execution_count": null,
   "id": "33459950",
   "metadata": {},
   "outputs": [],
   "source": []
  },
  {
   "cell_type": "code",
   "execution_count": null,
   "id": "9509af43",
   "metadata": {},
   "outputs": [],
   "source": []
  },
  {
   "cell_type": "code",
   "execution_count": null,
   "id": "a07f7e68",
   "metadata": {},
   "outputs": [],
   "source": []
  },
  {
   "cell_type": "code",
   "execution_count": null,
   "id": "f407fabf",
   "metadata": {},
   "outputs": [],
   "source": []
  },
  {
   "cell_type": "code",
   "execution_count": null,
   "id": "bff422bc",
   "metadata": {},
   "outputs": [],
   "source": []
  },
  {
   "cell_type": "code",
   "execution_count": null,
   "id": "aafb4462",
   "metadata": {},
   "outputs": [],
   "source": []
  }
 ],
 "metadata": {
  "kernelspec": {
   "display_name": "Python 3 (ipykernel)",
   "language": "python",
   "name": "python3"
  },
  "language_info": {
   "codemirror_mode": {
    "name": "ipython",
    "version": 3
   },
   "file_extension": ".py",
   "mimetype": "text/x-python",
   "name": "python",
   "nbconvert_exporter": "python",
   "pygments_lexer": "ipython3",
   "version": "3.8.10"
  }
 },
 "nbformat": 4,
 "nbformat_minor": 5
}
